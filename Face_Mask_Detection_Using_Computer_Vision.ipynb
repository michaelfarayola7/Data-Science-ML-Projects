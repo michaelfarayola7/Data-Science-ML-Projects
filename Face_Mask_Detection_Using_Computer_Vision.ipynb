{
  "cells": [
    {
      "cell_type": "markdown",
      "metadata": {
        "id": "view-in-github",
        "colab_type": "text"
      },
      "source": [
        "<a href=\"https://colab.research.google.com/github/michaelfarayola7/Data-Science-ML-Projects/blob/main/Face_Mask_Detection_Using_Computer_Vision.ipynb\" target=\"_parent\"><img src=\"https://colab.research.google.com/assets/colab-badge.svg\" alt=\"Open In Colab\"/></a>"
      ]
    },
    {
      "cell_type": "markdown",
      "id": "961e62a8-09cb-4b67-920a-147faab37028",
      "metadata": {
        "id": "961e62a8-09cb-4b67-920a-147faab37028"
      },
      "source": [
        "# The Dataset\n",
        "\n",
        "The dataset consisted of 1376 images, 690 face images with masks and 686 without masks. The original dataset is prepared by [Prajna Bhandary](https://www.linkedin.com/in/prajna-bhandary-0b03a416a/) and available at [Github](https://github.com/prajnasb/observations/tree/master/experiements/data)"
      ]
    },
    {
      "cell_type": "markdown",
      "id": "152cb496-2f72-41c0-8ca4-001eb5539730",
      "metadata": {
        "id": "152cb496-2f72-41c0-8ca4-001eb5539730"
      },
      "source": [
        "# Data Preprocessing"
      ]
    },
    {
      "cell_type": "code",
      "execution_count": null,
      "id": "54195e6c-fd27-4929-99a0-3be01bce94b1",
      "metadata": {
        "tags": [],
        "id": "54195e6c-fd27-4929-99a0-3be01bce94b1",
        "outputId": "fdccc046-a4a7-4d3c-f369-421f546c01fd"
      },
      "outputs": [
        {
          "name": "stdout",
          "output_type": "stream",
          "text": [
            "WARNING:tensorflow:From C:\\Users\\micha\\anaconda3\\Lib\\site-packages\\keras\\src\\losses.py:2976: The name tf.losses.sparse_softmax_cross_entropy is deprecated. Please use tf.compat.v1.losses.sparse_softmax_cross_entropy instead.\n",
            "\n",
            "WARNING:tensorflow:From C:\\Users\\micha\\AppData\\Local\\Temp\\ipykernel_27120\\3268989200.py:6: The name tf.logging.set_verbosity is deprecated. Please use tf.compat.v1.logging.set_verbosity instead.\n",
            "\n"
          ]
        }
      ],
      "source": [
        "import cv2\n",
        "import os\n",
        "import warnings\n",
        "warnings.filterwarnings('ignore')\n",
        "import tensorflow as tf\n",
        "tf.compat.v1.logging.set_verbosity(tf.compat.v1.logging.ERROR)  # Show only errors\n",
        "\n",
        "\n",
        "\n",
        "data_path =r'C:\\Users\\micha\\Desktop\\dataset\\facemask'\n",
        "categories = os.listdir(data_path)\n",
        "labels = [i for i in range(len(categories))]\n",
        "\n",
        "label_dict = dict(zip(categories, labels))"
      ]
    },
    {
      "cell_type": "code",
      "execution_count": null,
      "id": "3daa7626-169e-466f-9c12-45086ba946a1",
      "metadata": {
        "tags": [],
        "id": "3daa7626-169e-466f-9c12-45086ba946a1",
        "outputId": "c365a612-babf-4c7b-ff40-9ecf60e20ee7"
      },
      "outputs": [
        {
          "name": "stdout",
          "output_type": "stream",
          "text": [
            "C:\\Users\\micha\\Desktop\\dataset\n"
          ]
        }
      ],
      "source": [
        "print(os.getcwd())"
      ]
    },
    {
      "cell_type": "code",
      "execution_count": null,
      "id": "13c5a285-9a42-472e-a165-d5c04dd2f5a9",
      "metadata": {
        "tags": [],
        "id": "13c5a285-9a42-472e-a165-d5c04dd2f5a9",
        "outputId": "97b282da-9f15-4e94-c557-bf7e438a8d40"
      },
      "outputs": [
        {
          "name": "stdout",
          "output_type": "stream",
          "text": [
            "{'without_mask': 0, 'with_mask': 1}\n",
            "['without_mask', 'with_mask']\n",
            "[0, 1]\n"
          ]
        }
      ],
      "source": [
        "print(label_dict)\n",
        "print(categories)\n",
        "print(labels)"
      ]
    },
    {
      "cell_type": "code",
      "execution_count": null,
      "id": "e461dc59-09ad-4aef-a5fa-802b8f611c55",
      "metadata": {
        "tags": [],
        "id": "e461dc59-09ad-4aef-a5fa-802b8f611c55",
        "outputId": "62080da8-ff77-4a9e-f2bb-864de6d28c1f"
      },
      "outputs": [
        {
          "data": {
            "text/plain": [
              "[0, 1]"
            ]
          },
          "execution_count": 4,
          "metadata": {},
          "output_type": "execute_result"
        }
      ],
      "source": [
        "labels"
      ]
    },
    {
      "cell_type": "code",
      "execution_count": null,
      "id": "a5c4516d-3c21-498a-971f-3454e9e9b916",
      "metadata": {
        "tags": [],
        "id": "a5c4516d-3c21-498a-971f-3454e9e9b916",
        "outputId": "a8337cca-5a1a-43e2-bcad-4fd2f07311c0"
      },
      "outputs": [
        {
          "data": {
            "text/plain": [
              "2"
            ]
          },
          "execution_count": 5,
          "metadata": {},
          "output_type": "execute_result"
        }
      ],
      "source": [
        "len(categories)"
      ]
    },
    {
      "cell_type": "code",
      "execution_count": null,
      "id": "df9715be-ee93-46bf-b5a4-63797f8ecb16",
      "metadata": {
        "tags": [],
        "id": "df9715be-ee93-46bf-b5a4-63797f8ecb16"
      },
      "outputs": [],
      "source": [
        "img_size=100\n",
        "data=[]\n",
        "target=[]\n",
        "\n",
        "\n",
        "for category in categories:\n",
        "    folder_path=os.path.join(data_path,category)\n",
        "    img_names=os.listdir(folder_path)\n",
        "\n",
        "    for img_name in img_names:\n",
        "        img_path=os.path.join(folder_path,img_name)\n",
        "        img=cv2.imread(img_path)\n",
        "\n",
        "        if img is None:\n",
        "            print(f\"Failed to load image: {img_path}\")\n",
        "            continue #Skip this image and continue with the next\n",
        "\n",
        "        try:\n",
        "            gray=cv2.cvtColor(img,cv2.COLOR_BGR2GRAY)\n",
        "            #Coverting the image into gray scale\n",
        "            resized=cv2.resize(gray,(img_size,img_size))\n",
        "            #resizing the gray scale into 100x100, since we need a fixed common size for all the images in the dataset\n",
        "            data.append(resized)\n",
        "            target.append(label_dict[category])\n",
        "            #appending the image and the label(categorized) into the list (dataset)\n",
        "\n",
        "        except Exception as e:\n",
        "            print('Exception:',e)\n",
        "            #if any exception rasied, the exception will be printed here. And pass to the next image"
      ]
    },
    {
      "cell_type": "code",
      "execution_count": null,
      "id": "81c5368e-8e7a-4e53-bc5c-ae73c2362aec",
      "metadata": {
        "tags": [],
        "id": "81c5368e-8e7a-4e53-bc5c-ae73c2362aec"
      },
      "outputs": [],
      "source": [
        "import numpy as np\n",
        "\n",
        "data = np.array(data)/255.0 #Normnalize the data to convert the pixel range\n",
        "data = np.reshape(data, (data.shape[0], img_size, img_size, 1)) #Convert to a 4D array\n",
        "target = np.array(target)"
      ]
    },
    {
      "cell_type": "code",
      "execution_count": null,
      "id": "20bdfc5b-6891-4c73-8dc5-b1b19e477ce8",
      "metadata": {
        "tags": [],
        "id": "20bdfc5b-6891-4c73-8dc5-b1b19e477ce8"
      },
      "outputs": [],
      "source": [
        "from tensorflow.keras.utils import to_categorical\n",
        "\n",
        "new_target = to_categorical(target)"
      ]
    },
    {
      "cell_type": "code",
      "execution_count": null,
      "id": "1337d1b7-2ba7-4ad9-84ca-62ce79792a56",
      "metadata": {
        "tags": [],
        "id": "1337d1b7-2ba7-4ad9-84ca-62ce79792a56"
      },
      "outputs": [],
      "source": [
        "np.save('data', data)\n",
        "np.save('target', new_target)"
      ]
    },
    {
      "cell_type": "markdown",
      "id": "a528506e-fa79-4329-bdd4-0a64f263efa0",
      "metadata": {
        "id": "a528506e-fa79-4329-bdd4-0a64f263efa0"
      },
      "source": [
        "# Convolutional Neural Network Architecture"
      ]
    },
    {
      "cell_type": "code",
      "execution_count": null,
      "id": "6b4fb101-64a7-49b7-a7f4-f9b533042ff8",
      "metadata": {
        "tags": [],
        "id": "6b4fb101-64a7-49b7-a7f4-f9b533042ff8"
      },
      "outputs": [],
      "source": [
        "import numpy as np\n",
        "\n",
        "data = np.load('data.npy')\n",
        "target = np.load('target.npy')\n",
        "\n",
        "#Loading the save numpy arrays in the previous code"
      ]
    },
    {
      "cell_type": "code",
      "execution_count": null,
      "id": "92425062-9886-4990-8a53-a666cfe8d8f8",
      "metadata": {
        "tags": [],
        "id": "92425062-9886-4990-8a53-a666cfe8d8f8"
      },
      "outputs": [],
      "source": [
        "from tensorflow.keras.models import Sequential\n",
        "from tensorflow.keras.layers import Dense, Activation, Flatten, Dropout\n",
        "from tensorflow.keras.layers import Conv2D, MaxPooling2D\n",
        "from tensorflow.keras.callbacks import ModelCheckpoint"
      ]
    },
    {
      "cell_type": "code",
      "execution_count": null,
      "id": "b7f26e4a-a7a6-4882-9aa1-16271f0850f8",
      "metadata": {
        "tags": [],
        "id": "b7f26e4a-a7a6-4882-9aa1-16271f0850f8",
        "outputId": "2021df9b-1893-4522-8887-a87634b477b0"
      },
      "outputs": [
        {
          "data": {
            "text/plain": [
              "(1376, 100, 100, 1)"
            ]
          },
          "execution_count": 12,
          "metadata": {},
          "output_type": "execute_result"
        }
      ],
      "source": [
        "data.shape"
      ]
    },
    {
      "cell_type": "code",
      "execution_count": null,
      "id": "12b13f28-fc21-473a-8dd2-81e851e6b8a1",
      "metadata": {
        "tags": [],
        "id": "12b13f28-fc21-473a-8dd2-81e851e6b8a1"
      },
      "outputs": [],
      "source": [
        "model = Sequential()\n",
        "\n",
        "#The first CNN layer followed by Relu and MaxPooling layers\n",
        "model.add(Conv2D(200,(3,3), input_shape = data.shape[1:]))\n",
        "model.add(Activation('relu'))\n",
        "model.add(MaxPooling2D(pool_size=(2,2)))\n",
        "\n",
        "#The second convolution layer followed by Relu and MaxPooling layers\n",
        "model.add(Conv2D(100,(3,3)))\n",
        "model.add(Activation('relu'))\n",
        "model.add(MaxPooling2D(pool_size=(2,2)))\n",
        "\n",
        "#Flatten layer to stack the output convolutions from second convolution layer\n",
        "model.add(Flatten())\n",
        "model.add(Dropout(0.5))\n",
        "\n",
        "#Dense layer of 64 neurons\n",
        "model.add(Dense(64, activation='relu'))\n",
        "\n",
        "#The final layer with two outputsfor two categories\n",
        "model.add(Dense(2, activation='softmax'))\n",
        "\n",
        "model.compile(loss='categorical_crossentropy', optimizer = 'adam', metrics = ['accuracy'])"
      ]
    },
    {
      "cell_type": "code",
      "execution_count": null,
      "id": "41896d29-4f28-4eaa-8ca6-049bfb410a30",
      "metadata": {
        "tags": [],
        "id": "41896d29-4f28-4eaa-8ca6-049bfb410a30"
      },
      "outputs": [],
      "source": [
        "from sklearn.model_selection import train_test_split\n",
        "\n",
        "train_data, test_data, train_target, test_target = train_test_split(data, target, test_size = 0.1)"
      ]
    },
    {
      "cell_type": "code",
      "execution_count": null,
      "id": "2634226d-e095-4739-93df-5393e0b16dd3",
      "metadata": {
        "tags": [],
        "id": "2634226d-e095-4739-93df-5393e0b16dd3"
      },
      "outputs": [],
      "source": [
        "checkpoint = ModelCheckpoint('model-{epoch:03d}.model',monitor='val_loss',verbose=0,save_best_only=True,mode='auto')"
      ]
    },
    {
      "cell_type": "code",
      "execution_count": null,
      "id": "5723016e-b97e-42a6-bf32-9bdadee1d239",
      "metadata": {
        "tags": [],
        "id": "5723016e-b97e-42a6-bf32-9bdadee1d239"
      },
      "outputs": [],
      "source": [
        "import warnings\n",
        "warnings.filterwarnings('ignore', category=DeprecationWarning)"
      ]
    },
    {
      "cell_type": "code",
      "execution_count": null,
      "id": "8ed37924-0ec6-4040-a913-3264912aa8b0",
      "metadata": {
        "tags": [],
        "id": "8ed37924-0ec6-4040-a913-3264912aa8b0",
        "outputId": "0f1977c3-6177-4cc4-d59c-5d1c40ed5a28"
      },
      "outputs": [
        {
          "name": "stdout",
          "output_type": "stream",
          "text": [
            "Epoch 1/20\n",
            "31/31 [==============================] - 26s 786ms/step - loss: 0.7115 - accuracy: 0.5172 - val_loss: 0.6798 - val_accuracy: 0.5484\n",
            "Epoch 2/20\n",
            "31/31 [==============================] - 23s 757ms/step - loss: 0.5731 - accuracy: 0.6909 - val_loss: 0.4109 - val_accuracy: 0.8427\n",
            "Epoch 3/20\n",
            "31/31 [==============================] - 23s 757ms/step - loss: 0.3910 - accuracy: 0.8242 - val_loss: 0.3727 - val_accuracy: 0.8427\n",
            "Epoch 4/20\n",
            "31/31 [==============================] - 23s 757ms/step - loss: 0.2567 - accuracy: 0.9020 - val_loss: 0.2416 - val_accuracy: 0.9194\n",
            "Epoch 5/20\n",
            "31/31 [==============================] - 23s 754ms/step - loss: 0.1712 - accuracy: 0.9434 - val_loss: 0.2195 - val_accuracy: 0.9234\n",
            "Epoch 6/20\n",
            "31/31 [==============================] - 22s 709ms/step - loss: 0.1168 - accuracy: 0.9475 - val_loss: 0.2278 - val_accuracy: 0.9274\n",
            "Epoch 7/20\n",
            "31/31 [==============================] - 22s 711ms/step - loss: 0.0946 - accuracy: 0.9616 - val_loss: 0.2427 - val_accuracy: 0.9194\n",
            "Epoch 8/20\n",
            "31/31 [==============================] - 22s 711ms/step - loss: 0.0892 - accuracy: 0.9697 - val_loss: 0.2316 - val_accuracy: 0.9395\n",
            "Epoch 9/20\n",
            "31/31 [==============================] - 23s 758ms/step - loss: 0.0854 - accuracy: 0.9677 - val_loss: 0.1887 - val_accuracy: 0.9435\n",
            "Epoch 10/20\n",
            "31/31 [==============================] - 24s 763ms/step - loss: 0.0523 - accuracy: 0.9838 - val_loss: 0.1778 - val_accuracy: 0.9556\n",
            "Epoch 11/20\n",
            "31/31 [==============================] - 22s 713ms/step - loss: 0.0401 - accuracy: 0.9879 - val_loss: 0.2343 - val_accuracy: 0.9516\n",
            "Epoch 12/20\n",
            "31/31 [==============================] - 22s 717ms/step - loss: 0.0308 - accuracy: 0.9889 - val_loss: 0.2222 - val_accuracy: 0.9395\n",
            "Epoch 13/20\n",
            "31/31 [==============================] - 22s 717ms/step - loss: 0.0291 - accuracy: 0.9919 - val_loss: 0.2136 - val_accuracy: 0.9516\n",
            "Epoch 14/20\n",
            "31/31 [==============================] - 22s 712ms/step - loss: 0.0225 - accuracy: 0.9919 - val_loss: 0.2028 - val_accuracy: 0.9556\n",
            "Epoch 15/20\n",
            "31/31 [==============================] - 22s 712ms/step - loss: 0.0288 - accuracy: 0.9909 - val_loss: 0.3269 - val_accuracy: 0.9395\n",
            "Epoch 16/20\n",
            "31/31 [==============================] - 23s 760ms/step - loss: 0.0246 - accuracy: 0.9899 - val_loss: 0.1744 - val_accuracy: 0.9556\n",
            "Epoch 17/20\n",
            "31/31 [==============================] - 22s 706ms/step - loss: 0.0197 - accuracy: 0.9929 - val_loss: 0.2022 - val_accuracy: 0.9597\n",
            "Epoch 18/20\n",
            "31/31 [==============================] - 22s 712ms/step - loss: 0.0095 - accuracy: 0.9980 - val_loss: 0.2280 - val_accuracy: 0.9677\n",
            "Epoch 19/20\n",
            "31/31 [==============================] - 22s 707ms/step - loss: 0.0239 - accuracy: 0.9879 - val_loss: 0.2409 - val_accuracy: 0.9556\n",
            "Epoch 20/20\n",
            "31/31 [==============================] - 22s 708ms/step - loss: 0.0326 - accuracy: 0.9859 - val_loss: 0.2377 - val_accuracy: 0.9274\n"
          ]
        }
      ],
      "source": [
        "history=model.fit(train_data,train_target,epochs=20,callbacks=[checkpoint],validation_split=0.2)"
      ]
    },
    {
      "cell_type": "code",
      "execution_count": null,
      "id": "d66ce1dc-b63d-4f43-8f36-939749d879fe",
      "metadata": {
        "tags": [],
        "id": "d66ce1dc-b63d-4f43-8f36-939749d879fe",
        "outputId": "a670a30c-35fc-4ec5-8ee9-c04c5b99aa26"
      },
      "outputs": [
        {
          "data": {
            "image/png": "[encoded data removed]",
            "text/plain": [
              "<Figure size 640x480 with 1 Axes>"
            ]
          },
          "metadata": {},
          "output_type": "display_data"
        }
      ],
      "source": [
        "from matplotlib import pyplot as plt\n",
        "\n",
        "plt.plot(history.history['loss'],'r',label='training loss')\n",
        "plt.plot(history.history['val_loss'],label='validation loss')\n",
        "plt.xlabel('# epochs')\n",
        "plt.ylabel('loss')\n",
        "plt.legend()\n",
        "plt.show()"
      ]
    },
    {
      "cell_type": "code",
      "execution_count": null,
      "id": "cae4a1b1-a79c-4b6c-8e4d-c697458dd124",
      "metadata": {
        "tags": [],
        "id": "cae4a1b1-a79c-4b6c-8e4d-c697458dd124",
        "outputId": "2b241828-1f3b-4dba-d169-95a44e8ad238"
      },
      "outputs": [
        {
          "data": {
            "image/png": "[encoded data removed]",
            "text/plain": [
              "<Figure size 640x480 with 1 Axes>"
            ]
          },
          "metadata": {},
          "output_type": "display_data"
        }
      ],
      "source": [
        "plt.plot(history.history['accuracy'],'r',label='training accuracy')\n",
        "plt.plot(history.history['val_accuracy'],label='validation accuracy')\n",
        "plt.xlabel('# epochs')\n",
        "plt.ylabel('loss')\n",
        "plt.legend()\n",
        "plt.show()"
      ]
    },
    {
      "cell_type": "code",
      "execution_count": null,
      "id": "5dbbe393-f944-499c-bd88-615b217b87c8",
      "metadata": {
        "tags": [],
        "id": "5dbbe393-f944-499c-bd88-615b217b87c8",
        "outputId": "2409a23e-ece4-46a0-935e-46934371dcf1"
      },
      "outputs": [
        {
          "name": "stdout",
          "output_type": "stream",
          "text": [
            "5/5 [==============================] - 1s 157ms/step - loss: 0.1660 - accuracy: 0.9565\n",
            "[0.16598176956176758, 0.95652174949646]\n"
          ]
        }
      ],
      "source": [
        "print(model.evaluate(test_data,test_target))"
      ]
    },
    {
      "cell_type": "markdown",
      "id": "660bebba-b6b1-4d7e-994e-988aef73a8ad",
      "metadata": {
        "id": "660bebba-b6b1-4d7e-994e-988aef73a8ad"
      },
      "source": [
        "# Detecting Faces with and without masks"
      ]
    },
    {
      "cell_type": "code",
      "execution_count": null,
      "id": "81aa7f63-a9af-4018-bdb3-45219ebe0598",
      "metadata": {
        "tags": [],
        "id": "81aa7f63-a9af-4018-bdb3-45219ebe0598"
      },
      "outputs": [],
      "source": [
        "from tensorflow.keras.models import load_model\n",
        "import cv2\n",
        "import numpy as np"
      ]
    },
    {
      "cell_type": "code",
      "execution_count": null,
      "id": "be9a03c3-10ce-4513-8a59-72768911b105",
      "metadata": {
        "tags": [],
        "id": "be9a03c3-10ce-4513-8a59-72768911b105"
      },
      "outputs": [],
      "source": [
        "model = load_model('model-020.model')\n",
        "\n",
        "face_clsfr=cv2.CascadeClassifier('haarcascade_frontalface_default.xml')\n",
        "\n",
        "cap =cv2.VideoCapture('maskvid.mp4')\n",
        "\n",
        "labels_dict={0:'MASK',1:'NO MASK'}\n",
        "color_dict={0:(0,255,0),1:(0,0,255)}"
      ]
    },
    {
      "cell_type": "code",
      "execution_count": null,
      "id": "2b46382d-26ac-449f-b0cb-a627f6ce889f",
      "metadata": {
        "tags": [],
        "id": "2b46382d-26ac-449f-b0cb-a627f6ce889f",
        "outputId": "12433885-2c84-4055-f343-2deb3a0c62cf"
      },
      "outputs": [
        {
          "name": "stdout",
          "output_type": "stream",
          "text": [
            "1/1 [==============================] - 0s 201ms/step\n",
            "1/1 [==============================] - 0s 80ms/step\n",
            "1/1 [==============================] - 0s 80ms/step\n",
            "1/1 [==============================] - 0s 78ms/step\n",
            "1/1 [==============================] - 0s 67ms/step\n",
            "1/1 [==============================] - 0s 65ms/step\n",
            "1/1 [==============================] - 0s 72ms/step\n",
            "1/1 [==============================] - 0s 58ms/step\n",
            "1/1 [==============================] - 0s 69ms/step\n",
            "1/1 [==============================] - 0s 85ms/step\n",
            "1/1 [==============================] - 0s 69ms/step\n",
            "1/1 [==============================] - 0s 64ms/step\n",
            "1/1 [==============================] - 0s 62ms/step\n",
            "1/1 [==============================] - 0s 52ms/step\n",
            "1/1 [==============================] - 0s 74ms/step\n",
            "1/1 [==============================] - 0s 52ms/step\n",
            "1/1 [==============================] - 0s 47ms/step\n",
            "1/1 [==============================] - 0s 51ms/step\n",
            "1/1 [==============================] - 0s 51ms/step\n",
            "1/1 [==============================] - 0s 56ms/step\n",
            "1/1 [==============================] - 0s 58ms/step\n",
            "1/1 [==============================] - 0s 24ms/step\n",
            "1/1 [==============================] - 0s 21ms/step\n",
            "1/1 [==============================] - 0s 22ms/step\n",
            "1/1 [==============================] - 0s 23ms/step\n",
            "1/1 [==============================] - 0s 46ms/step\n",
            "1/1 [==============================] - 0s 25ms/step\n",
            "1/1 [==============================] - 0s 24ms/step\n",
            "1/1 [==============================] - 0s 23ms/step\n",
            "1/1 [==============================] - 0s 117ms/step\n",
            "1/1 [==============================] - 0s 25ms/step\n",
            "1/1 [==============================] - 0s 25ms/step\n",
            "1/1 [==============================] - 0s 27ms/step\n",
            "1/1 [==============================] - 0s 23ms/step\n",
            "1/1 [==============================] - 0s 26ms/step\n",
            "1/1 [==============================] - 0s 23ms/step\n",
            "1/1 [==============================] - 0s 34ms/step\n",
            "1/1 [==============================] - 0s 25ms/step\n",
            "1/1 [==============================] - 0s 24ms/step\n",
            "1/1 [==============================] - 0s 137ms/step\n",
            "1/1 [==============================] - 0s 25ms/step\n",
            "1/1 [==============================] - 0s 52ms/step\n",
            "1/1 [==============================] - 0s 32ms/step\n",
            "1/1 [==============================] - 0s 34ms/step\n",
            "1/1 [==============================] - 0s 25ms/step\n",
            "1/1 [==============================] - 0s 39ms/step\n",
            "1/1 [==============================] - 0s 24ms/step\n",
            "1/1 [==============================] - 0s 27ms/step\n",
            "1/1 [==============================] - 0s 25ms/step\n",
            "1/1 [==============================] - 0s 25ms/step\n",
            "1/1 [==============================] - 0s 26ms/step\n",
            "1/1 [==============================] - 0s 37ms/step\n",
            "1/1 [==============================] - 0s 24ms/step\n",
            "1/1 [==============================] - 0s 23ms/step\n",
            "1/1 [==============================] - 0s 25ms/step\n",
            "1/1 [==============================] - 0s 34ms/step\n",
            "1/1 [==============================] - 0s 23ms/step\n",
            "1/1 [==============================] - 0s 26ms/step\n",
            "1/1 [==============================] - 0s 31ms/step\n"
          ]
        },
        {
          "ename": "error",
          "evalue": "OpenCV(4.9.0) D:\\a\\opencv-python\\opencv-python\\opencv\\modules\\imgproc\\src\\resize.cpp:4152: error: (-215:Assertion failed) !ssize.empty() in function 'cv::resize'\n",
          "output_type": "error",
          "traceback": [
            "\u001b[1;31m---------------------------------------------------------------------------\u001b[0m",
            "\u001b[1;31merror\u001b[0m                                     Traceback (most recent call last)",
            "Cell \u001b[1;32mIn[23], line 4\u001b[0m\n\u001b[0;32m      1\u001b[0m \u001b[38;5;28;01mwhile\u001b[39;00m(\u001b[38;5;28;01mTrue\u001b[39;00m):\n\u001b[0;32m      3\u001b[0m     success,img\u001b[38;5;241m=\u001b[39mcap\u001b[38;5;241m.\u001b[39mread()\n\u001b[1;32m----> 4\u001b[0m     img \u001b[38;5;241m=\u001b[39m cv2\u001b[38;5;241m.\u001b[39mresize(img,(\u001b[38;5;241m800\u001b[39m,\u001b[38;5;241m700\u001b[39m)) \u001b[38;5;66;03m# (400,800), (800,700)\u001b[39;00m\n\u001b[0;32m      5\u001b[0m     gray\u001b[38;5;241m=\u001b[39mcv2\u001b[38;5;241m.\u001b[39mcvtColor(img,cv2\u001b[38;5;241m.\u001b[39mCOLOR_BGR2GRAY)\n\u001b[0;32m      6\u001b[0m     faces\u001b[38;5;241m=\u001b[39mface_clsfr\u001b[38;5;241m.\u001b[39mdetectMultiScale(gray,\u001b[38;5;241m1.3\u001b[39m,\u001b[38;5;241m5\u001b[39m)  \n",
            "\u001b[1;31merror\u001b[0m: OpenCV(4.9.0) D:\\a\\opencv-python\\opencv-python\\opencv\\modules\\imgproc\\src\\resize.cpp:4152: error: (-215:Assertion failed) !ssize.empty() in function 'cv::resize'\n"
          ]
        }
      ],
      "source": [
        "while(True):\n",
        "\n",
        "    success,img=cap.read()\n",
        "    img = cv2.resize(img,(800,700)) # (400,800), (800,700)\n",
        "    gray=cv2.cvtColor(img,cv2.COLOR_BGR2GRAY)\n",
        "    faces=face_clsfr.detectMultiScale(gray,1.3,5)\n",
        "\n",
        "    for (x,y,w,h) in faces:\n",
        "\n",
        "        face_img=gray[y:y+w,x:x+w]\n",
        "        resized=cv2.resize(face_img,(100,100))\n",
        "        normalized=resized/255.0\n",
        "        reshaped=np.reshape(normalized,(1,100,100,1)) #reshape to 4D\n",
        "        result=model.predict(reshaped)\n",
        "\n",
        "        label=np.argmax(result,axis=1)[0] #to determine which has the maximum probability\n",
        "\n",
        "        cv2.rectangle(img,(x,y),(x+w,y+h),color_dict[label],2) #for bounding box\n",
        "        cv2.rectangle(img,(x,y-40),(x+w,y),color_dict[label],-1) #for closed or filled rectangle on top of bounding box\n",
        "        cv2.putText(img, labels_dict[label], (x, y-10),cv2.FONT_HERSHEY_SIMPLEX,0.8,(255,255,255),2) # text to be displayed\n",
        "\n",
        "\n",
        "    cv2.imshow('LIVE',img)\n",
        "    key=cv2.waitKey(1)\n",
        "\n",
        "    if(key==27):\n",
        "        break\n",
        "\n",
        "cv2.destroyAllWindows()\n",
        "source.release()"
      ]
    },
    {
      "cell_type": "code",
      "execution_count": null,
      "id": "adc68833-86f8-4366-80a4-2f1a7dd90034",
      "metadata": {
        "tags": [],
        "id": "adc68833-86f8-4366-80a4-2f1a7dd90034"
      },
      "outputs": [],
      "source": [
        "# while True:\n",
        "#     success, img = cap.read()\n",
        "#     if not success:\n",
        "#         print(\"Failed to grab a frame or end of video reached\")\n",
        "#         break  # Exit the loop if no frame is grabbed\n",
        "\n",
        "#     img = cv2.resize(img, (800, 700))\n",
        "#     gray = cv2.cvtColor(img, cv2.COLOR_BGR2GRAY)\n",
        "#     faces = face_clsfr.detectMultiScale(gray, 1.3, 5)\n",
        "\n",
        "#     for (x, y, w, h) in faces:\n",
        "#         face_img = gray[y:y + w, x:x + w]\n",
        "#         resized = cv2.resize(face_img, (100, 100))\n",
        "#         normalized = resized / 255.0\n",
        "#         reshaped = np.reshape(normalized, (1, 100, 100, 1))  # Reshape to 4D for the model\n",
        "#         result = model.predict(reshaped)\n",
        "\n",
        "#         label = np.argmax(result, axis=1)[0]\n",
        "\n",
        "#         cv2.rectangle(img, (x, y), (x + w, y + h), color_dict[label], 2)\n",
        "#         cv2.rectangle(img, (x, y - 40), (x + w, y), color_dict[label], -1)\n",
        "#         cv2.putText(img, labels_dict[label], (x, y - 10), cv2.FONT_HERSHEY_SIMPLEX, 0.8, (255, 255, 255), 2)\n",
        "\n",
        "#     cv2.imshow('LIVE', img)\n",
        "#     key = cv2.waitKey(1)\n",
        "\n",
        "#     if key == 27:  # ESC key to break\n",
        "#         break\n",
        "\n",
        "# cv2.destroyAllWindows()\n",
        "# cap.release()  # Make sure this matches the variable used to initialize the video capture\n"
      ]
    },
    {
      "cell_type": "code",
      "execution_count": null,
      "id": "0dba067f-d155-426b-a8fb-c32aef9ec511",
      "metadata": {
        "tags": [],
        "id": "0dba067f-d155-426b-a8fb-c32aef9ec511"
      },
      "outputs": [],
      "source": [
        "# while True:\n",
        "#     success, img = cap.read()\n",
        "#     if not success:\n",
        "#         break  # If failed to grab a frame, exit loop\n",
        "\n",
        "#     img = cv2.resize(img, (800, 700))\n",
        "#     gray = cv2.cvtColor(img, cv2.COLOR_BGR2GRAY)\n",
        "#     faces = face_clsfr.detectMultiScale(gray, 1.3, 5)\n",
        "\n",
        "#     for (x, y, w, h) in faces:\n",
        "#         face_img = gray[y:y + w, x:x + w]\n",
        "#         resized = cv2.resize(face_img, (100, 100))\n",
        "#         normalized = resized / 255.0\n",
        "#         reshaped = np.reshape(normalized, (1, 100, 100, 1))\n",
        "#         result = model.predict(reshaped)\n",
        "#         label = np.argmax(result, axis=1)[0]\n",
        "\n",
        "#         cv2.rectangle(img, (x, y), (x + w, y + h), color_dict[label], 2)\n",
        "#         cv2.rectangle(img, (x, y - 40), (x + w, y), color_dict[label], -1)\n",
        "#         cv2.putText(img, labels_dict[label], (x, y - 10), cv2.FONT_HERSHEY_SIMPLEX, 0.8, (255, 255, 255), 2)\n",
        "\n",
        "#     cv2.imshow('LIVE', img)\n",
        "#     key = cv2.waitKey(1)\n",
        "\n",
        "#     if key == 27:  # ESC key to break\n",
        "#         break\n",
        "\n",
        "# cap.release()\n",
        "# cv2.destroyAllWindows()\n"
      ]
    },
    {
      "cell_type": "code",
      "execution_count": null,
      "id": "edad19c7-2750-4ec9-8bb4-2022d25e802b",
      "metadata": {
        "id": "edad19c7-2750-4ec9-8bb4-2022d25e802b"
      },
      "outputs": [],
      "source": [
        "# from keras.models import load_model\n",
        "# import cv2\n",
        "# import numpy as np"
      ]
    },
    {
      "cell_type": "code",
      "execution_count": null,
      "id": "4a0b0f83-9d51-444f-ab96-8c41a57b9b85",
      "metadata": {
        "id": "4a0b0f83-9d51-444f-ab96-8c41a57b9b85"
      },
      "outputs": [],
      "source": [
        "# model = load_model('model-017.model')\n",
        "\n",
        "# face_clsfr = cv2.CascadeClassifier('haarcascade_frontalface_default.xml')\n",
        "\n",
        "# cap = cv2.VideoCapture('maskvid.mp4')\n",
        "\n",
        "# labels_disct = {0:'Mask', 1: 'No Mask'}\n",
        "\n",
        "# color_dict = {0:(0,255,0), 1:(0,0,255)}"
      ]
    },
    {
      "cell_type": "code",
      "execution_count": null,
      "id": "1409cfb6-9f36-46d7-afd8-3833e1f0c6e6",
      "metadata": {
        "id": "1409cfb6-9f36-46d7-afd8-3833e1f0c6e6"
      },
      "outputs": [],
      "source": [
        "# while True:\n",
        "#     success, img = cap.read() #Read the images in the video\n",
        "\n",
        "#     img = cv2.resize(img, (800, 700)) #Here, resize the images of the video\n",
        "#     gray = cv2.cvtColor(img, cv2.COLOR_BGR2GRAY) #Here, convert the images to gray colored\n",
        "#     faces = face_clsfr.detectMultiScale(gray, 1.3, 5)\n",
        "\n",
        "\n",
        "#     for (x,y,w,h) in faces:\n",
        "\n",
        "#         face_img = gray[y: y+w, x: x+w]\n",
        "#         resized = cv2.resize(face_img, (100, 100)) #Here, resizing the face images\n",
        "#         normalized = resized/255.0 #Normalizing the images\n",
        "#         reshaped = np.reshape(normalized, (1,100,100,1)) #reshape to 4D\n",
        "#         result = model.predict(reshaped)\n",
        "\n",
        "#         label = np.argmax(result, axis = 1)[0] #Tp determine which has the maximum probability\n",
        "\n",
        "#         #Creating the bounding box\n",
        "#         cv2.rectangle(img, (x,y), (x+w, y+h), color_dict[label], 2)\n",
        "#         cv2.rectangle(img, (x, y-40), (x+w, y), color_dict[label], -1) #for closed or filled rectangle on top of the bounding box\n",
        "#         cv2.putText(img, labels_dict[label], (x, y-10), cv2.FONT_HERSHEY_SIMPLEX, 0.8, (255, 255, 255), 2) #Text to be display\n",
        "\n",
        "#     cv2.imshow('LIVE', img)\n",
        "#     key = cv2.waitKey(1)\n",
        "\n",
        "#     if(key==27):\n",
        "#         break\n",
        "\n",
        "# cv2.destroyAllWindows()\n",
        "# source.release()"
      ]
    }
  ],
  "metadata": {
    "kernelspec": {
      "display_name": "Python 3 (ipykernel)",
      "language": "python",
      "name": "python3"
    },
    "language_info": {
      "codemirror_mode": {
        "name": "ipython",
        "version": 3
      },
      "file_extension": ".py",
      "mimetype": "text/x-python",
      "name": "python",
      "nbconvert_exporter": "python",
      "pygments_lexer": "ipython3",
      "version": "3.11.5"
    },
    "colab": {
      "provenance": [],
      "include_colab_link": true
    }
  },
  "nbformat": 4,
  "nbformat_minor": 5
}