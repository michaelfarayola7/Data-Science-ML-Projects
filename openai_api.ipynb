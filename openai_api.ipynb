{
  "cells": [
    {
      "cell_type": "markdown",
      "metadata": {
        "id": "view-in-github",
        "colab_type": "text"
      },
      "source": [
        "<a href=\"https://colab.research.google.com/github/michaelfarayola7/Data-Science-ML-Projects/blob/main/openai_api.ipynb\" target=\"_parent\"><img src=\"https://colab.research.google.com/assets/colab-badge.svg\" alt=\"Open In Colab\"/></a>"
      ]
    },
    {
      "cell_type": "code",
      "execution_count": null,
      "id": "3accfcc4-b463-4e57-826b-da4ab113a4a2",
      "metadata": {
        "id": "3accfcc4-b463-4e57-826b-da4ab113a4a2"
      },
      "outputs": [],
      "source": [
        "import openai\n",
        "from sk import my_sk\n",
        "import time"
      ]
    },
    {
      "cell_type": "code",
      "execution_count": null,
      "id": "ac2dd1a7-bb7e-4b90-a76e-b80b47d3798f",
      "metadata": {
        "id": "ac2dd1a7-bb7e-4b90-a76e-b80b47d3798f"
      },
      "outputs": [],
      "source": [
        "openai.api_key = my_sk"
      ]
    },
    {
      "cell_type": "markdown",
      "id": "314e75ea-f20e-4feb-9839-5903b656d5b2",
      "metadata": {
        "id": "314e75ea-f20e-4feb-9839-5903b656d5b2"
      },
      "source": [
        "First Call"
      ]
    },
    {
      "cell_type": "code",
      "execution_count": null,
      "id": "751d6f02-f02d-4180-a4bc-4a86f08a63c2",
      "metadata": {
        "id": "751d6f02-f02d-4180-a4bc-4a86f08a63c2"
      },
      "outputs": [],
      "source": [
        "import os\n",
        "from openai import OpenAI\n",
        "\n",
        "client = OpenAI(api_key=my_sk)\n",
        "chat_completion = client.chat.completions.create(messages=[{\"role\": \"user\",\"content\": \"Listen to your\"}],\n",
        "                                                 model=\"gpt-3.5-turbo\")"
      ]
    },
    {
      "cell_type": "code",
      "execution_count": null,
      "id": "ae5989a9-79ba-43d3-978c-f93a50f3aeb9",
      "metadata": {
        "id": "ae5989a9-79ba-43d3-978c-f93a50f3aeb9",
        "outputId": "9d0c2178-b6f8-4464-c20f-8de568d7c3ed"
      },
      "outputs": [
        {
          "data": {
            "text/plain": [
              "{'id': 'chatcmpl-AP8MPX7SNq2HbE8IyWJupltJbpEUz',\n",
              " 'choices': [{'finish_reason': 'stop',\n",
              "   'index': 0,\n",
              "   'logprobs': None,\n",
              "   'message': {'content': \"inner voice and trust your instincts. Take time to reflect on your thoughts and feelings before making decisions. Don't let outside influences sway you from what you truly believe is right. Your intuition can be a valuable guide in navigating life's challenges. Trust yourself and have confidence in your choices.\",\n",
              "    'refusal': None,\n",
              "    'role': 'assistant'}}],\n",
              " 'created': 1730553701,\n",
              " 'model': 'gpt-3.5-turbo-0125',\n",
              " 'object': 'chat.completion',\n",
              " 'system_fingerprint': None,\n",
              " 'usage': {'completion_tokens': 57,\n",
              "  'prompt_tokens': 10,\n",
              "  'total_tokens': 67,\n",
              "  'completion_tokens_details': {'reasoning_tokens': 0},\n",
              "  'prompt_tokens_details': {'cached_tokens': 0}}}"
            ]
          },
          "execution_count": 4,
          "metadata": {},
          "output_type": "execute_result"
        }
      ],
      "source": [
        "chat_completion.to_dict()"
      ]
    },
    {
      "cell_type": "code",
      "execution_count": null,
      "id": "20ffd3d1-94d5-4d89-a237-b7b430bdc758",
      "metadata": {
        "id": "20ffd3d1-94d5-4d89-a237-b7b430bdc758",
        "outputId": "0696f8a4-944c-48e3-891e-e6d722ddfa29"
      },
      "outputs": [
        {
          "name": "stdout",
          "output_type": "stream",
          "text": [
            "inner voice and trust your instincts. Take time to reflect on your thoughts and feelings before making decisions. Don't let outside influences sway you from what you truly believe is right. Your intuition can be a valuable guide in navigating life's challenges. Trust yourself and have confidence in your choices.\n"
          ]
        }
      ],
      "source": [
        "print(chat_completion.choices[0].message.content)"
      ]
    },
    {
      "cell_type": "markdown",
      "id": "14023e8b-b1d1-4e9a-b24c-5f717658ca73",
      "metadata": {
        "id": "14023e8b-b1d1-4e9a-b24c-5f717658ca73"
      },
      "source": [
        "max_tokens parameter"
      ]
    },
    {
      "cell_type": "code",
      "execution_count": null,
      "id": "5461288d-0f15-4c78-9eda-a276cca93a26",
      "metadata": {
        "id": "5461288d-0f15-4c78-9eda-a276cca93a26"
      },
      "outputs": [],
      "source": [
        "import os\n",
        "from openai import OpenAI\n",
        "\n",
        "client = OpenAI(api_key=my_sk)\n",
        "chat_completion = client.chat.completions.create(messages=[{\"role\": \"user\",\"content\": \"Listen to your\"}],\n",
        "                                                 model=\"gpt-3.5-turbo\", max_tokens = 1)"
      ]
    },
    {
      "cell_type": "code",
      "execution_count": null,
      "id": "9bf4a3d4-37b3-4334-86d1-8892dc7e9767",
      "metadata": {
        "id": "9bf4a3d4-37b3-4334-86d1-8892dc7e9767",
        "outputId": "87f82449-5553-432b-c935-ed66ecf748c9"
      },
      "outputs": [
        {
          "data": {
            "text/plain": [
              "{'id': 'chatcmpl-AP8MR0LKq7EN2oMwr1xYH9Jy0pSFR',\n",
              " 'choices': [{'finish_reason': 'length',\n",
              "   'index': 0,\n",
              "   'logprobs': None,\n",
              "   'message': {'content': ' inner', 'refusal': None, 'role': 'assistant'}}],\n",
              " 'created': 1730553703,\n",
              " 'model': 'gpt-3.5-turbo-0125',\n",
              " 'object': 'chat.completion',\n",
              " 'system_fingerprint': None,\n",
              " 'usage': {'completion_tokens': 1,\n",
              "  'prompt_tokens': 10,\n",
              "  'total_tokens': 11,\n",
              "  'completion_tokens_details': {'reasoning_tokens': 0},\n",
              "  'prompt_tokens_details': {'cached_tokens': 0}}}"
            ]
          },
          "execution_count": 7,
          "metadata": {},
          "output_type": "execute_result"
        }
      ],
      "source": [
        "chat_completion.to_dict()"
      ]
    },
    {
      "cell_type": "code",
      "execution_count": null,
      "id": "412e4f4e-597d-4674-8080-92bca0b527f0",
      "metadata": {
        "id": "412e4f4e-597d-4674-8080-92bca0b527f0",
        "outputId": "21d339e4-37e2-49f5-f1da-c37b43b3b323"
      },
      "outputs": [
        {
          "name": "stdout",
          "output_type": "stream",
          "text": [
            " inner\n"
          ]
        }
      ],
      "source": [
        "print(chat_completion.choices[0].message.content)"
      ]
    },
    {
      "cell_type": "code",
      "execution_count": null,
      "id": "43fff394-1f11-4666-b449-29ff7584e222",
      "metadata": {
        "id": "43fff394-1f11-4666-b449-29ff7584e222",
        "outputId": "bbc89b99-8be4-49c5-df26-8139f840c7b3"
      },
      "outputs": [
        {
          "name": "stdout",
          "output_type": "stream",
          "text": [
            " inner voice and\n"
          ]
        }
      ],
      "source": [
        "import os\n",
        "from openai import OpenAI\n",
        "\n",
        "client = OpenAI(api_key=my_sk)\n",
        "chat_completion = client.chat.completions.create(messages=[{\"role\": \"user\",\"content\": \"Listen to your\"}],\n",
        "                                                 model=\"gpt-3.5-turbo\", max_tokens = 3)\n",
        "\n",
        "print(chat_completion.choices[0].message.content)"
      ]
    },
    {
      "cell_type": "markdown",
      "id": "078c096b-f60c-41e4-815a-942f9248f114",
      "metadata": {
        "id": "078c096b-f60c-41e4-815a-942f9248f114"
      },
      "source": [
        "#n = number of chat completions"
      ]
    },
    {
      "cell_type": "code",
      "execution_count": null,
      "id": "284f717d-9847-4d31-84f3-15b38547c5a3",
      "metadata": {
        "id": "284f717d-9847-4d31-84f3-15b38547c5a3",
        "outputId": "d44525b1-ead7-4f9c-9aab-c555717c7211"
      },
      "outputs": [
        {
          "name": "stdout",
          "output_type": "stream",
          "text": [
            " heart and follow\n",
            " heart, it\n",
            "heart. Trust\n",
            " inner voice;\n",
            "intuition.\n"
          ]
        }
      ],
      "source": [
        "import os\n",
        "from openai import OpenAI\n",
        "\n",
        "client = OpenAI(api_key=my_sk)\n",
        "chat_completion = client.chat.completions.create(messages=[{\"role\": \"user\",\"content\": \"Listen to your\"}],\n",
        "                                                 model=\"gpt-3.5-turbo\",\n",
        "                                                 max_tokens = 3,\n",
        "                                                 n = 5)\n",
        "\n",
        "#print the chat completions\n",
        "for i in range(len(chat_completion.choices)):\n",
        "    print(chat_completion.choices[i].message.content)"
      ]
    },
    {
      "cell_type": "code",
      "execution_count": null,
      "id": "25b279d7-a71d-4396-b10f-2f5f228ae72d",
      "metadata": {
        "id": "25b279d7-a71d-4396-b10f-2f5f228ae72d",
        "outputId": "3f101226-73a8-4f7a-8624-17c03279cff1"
      },
      "outputs": [
        {
          "data": {
            "text/plain": [
              "5"
            ]
          },
          "execution_count": 12,
          "metadata": {},
          "output_type": "execute_result"
        }
      ],
      "source": [
        "len(chat_completion.choices)"
      ]
    },
    {
      "cell_type": "markdown",
      "id": "0f4571c5-b34f-4ea8-a3d1-29553a89aef8",
      "metadata": {
        "id": "0f4571c5-b34f-4ea8-a3d1-29553a89aef8"
      },
      "source": [
        "#temperature parameter(takes a value of 0 to 2): this control the randomness of the response."
      ]
    },
    {
      "cell_type": "code",
      "execution_count": null,
      "id": "3c883a83-230b-40e0-978a-31aa1b594d30",
      "metadata": {
        "id": "3c883a83-230b-40e0-978a-31aa1b594d30",
        "outputId": "16b57ef7-421a-4294-b524-ea307c5b0bf7"
      },
      "outputs": [
        {
          "name": "stdout",
          "output_type": "stream",
          "text": [
            " heart, it\n",
            " instincts. Trust\n",
            "instincts\n",
            "instincts\n",
            " intuition migrationBuilder;\n"
          ]
        }
      ],
      "source": [
        "import os\n",
        "from openai import OpenAI\n",
        "\n",
        "client = OpenAI(api_key=my_sk)\n",
        "chat_completion = client.chat.completions.create(messages=[{\"role\": \"user\",\"content\": \"Listen to your\"}],\n",
        "                                                 model=\"gpt-3.5-turbo\",\n",
        "                                                 max_tokens = 3,\n",
        "                                                 n = 5,\n",
        "                                                 temperature = 2)\n",
        "\n",
        "#print the chat completions\n",
        "for i in range(len(chat_completion.choices)):\n",
        "    print(chat_completion.choices[i].message.content)"
      ]
    },
    {
      "cell_type": "markdown",
      "id": "be9ee6e2-ccbb-4adc-b1dd-eab58522b581",
      "metadata": {
        "id": "be9ee6e2-ccbb-4adc-b1dd-eab58522b581"
      },
      "source": [
        "#Demo: Lyric Completion Assistant"
      ]
    },
    {
      "cell_type": "code",
      "execution_count": null,
      "id": "00c70fe2-a6f0-41aa-ac7d-77de2c98d059",
      "metadata": {
        "id": "00c70fe2-a6f0-41aa-ac7d-77de2c98d059"
      },
      "outputs": [],
      "source": [
        "# initial prompt with system message and 2 task examples\n",
        "#the system message is literally more like the initial message the chatbot pops up\n",
        "messages_list = [{\"role\":\"system\", \"content\": \"I am Roxette lyric completion assistant. When given a line from a song, I will provide the next line in the song.\"},\n",
        "                 {\"role\":\"user\", \"content\": \"I know there's something in the wake of your smile\"},\n",
        "                 {\"role\":\"assistant\", \"content\": \"I get a notion from the look in your eyes, yeah\"},\n",
        "                 {\"role\":\"user\", \"content\": \"You've built a love but that love falls apart\"},\n",
        "                 {\"role\":\"assistant\", \"content\": \"Your little piece of Heaven turns too dark\"},\n",
        "                 {\"role\":\"user\", \"content\": \"Listen to your\"}]"
      ]
    },
    {
      "cell_type": "code",
      "execution_count": null,
      "id": "77151250-203d-463b-9231-8bd3fd31d989",
      "metadata": {
        "id": "77151250-203d-463b-9231-8bd3fd31d989",
        "outputId": "dc7743e5-b1e1-4d60-f357-5ac9417ee6f8"
      },
      "outputs": [
        {
          "name": "stdout",
          "output_type": "stream",
          "text": [
            "Heart when he's calling for you\n",
            "Listen to your heart, there's nothing else you can do\n",
            "I don't know where you're going and I don't know why\n",
            "But listen to your heart before you tell him goodbye\n"
          ]
        }
      ],
      "source": [
        "for i in range(4):\n",
        "    # create a chat completion\n",
        "    chat_completion = client.chat.completions.create(model=\"gpt-3.5-turbo\",\n",
        "                                    messages=messages_list,\n",
        "                                    max_tokens = 15,\n",
        "                                    n=1,\n",
        "                                    temperature=0)\n",
        "\n",
        "    # print the chat completion\n",
        "    print(chat_completion.choices[0].message.content)\n",
        "\n",
        "    new_message = {\"role\":\"assistant\", \"content\":chat_completion.choices[0].message.content} # append new message to message list\n",
        "    messages_list.append(new_message)\n",
        "    time.sleep(0.1)"
      ]
    },
    {
      "cell_type": "code",
      "execution_count": null,
      "id": "4cd79011-ff9a-4bfe-9114-c073181d273b",
      "metadata": {
        "id": "4cd79011-ff9a-4bfe-9114-c073181d273b"
      },
      "outputs": [],
      "source": [
        "# Actual lyrics:\n",
        "\n",
        "# Listen to your heart when he's calling for you\n",
        "# Listen to your heart, there's nothing else you can do\n",
        "# I don't know where you're going and I don't know why\n",
        "# But listen to your heart before you tell him goodbye"
      ]
    },
    {
      "cell_type": "markdown",
      "id": "08c99b2b-1ebf-4b65-9d33-d1f35b0e7d64",
      "metadata": {
        "id": "08c99b2b-1ebf-4b65-9d33-d1f35b0e7d64"
      },
      "source": [
        "#Cranking the temp!"
      ]
    },
    {
      "cell_type": "code",
      "execution_count": null,
      "id": "97208641-87b0-4542-a3de-0c4a374f6186",
      "metadata": {
        "id": "97208641-87b0-4542-a3de-0c4a374f6186",
        "outputId": "120db036-7b47-4c17-9f40-ae3cb5740c43"
      },
      "outputs": [
        {
          "name": "stdout",
          "output_type": "stream",
          "text": [
            "And there are voices that want to be heard\n",
            "So much to mention but you can't find the words\n",
            "The scent of magic, the beauty that's been when love was wilder\n",
            "Listen to your heart, take a listen to it\n"
          ]
        }
      ],
      "source": [
        "for i in range(4):\n",
        "    # create a chat completion\n",
        "    chat_completion = client.chat.completions.create(model=\"gpt-3.5-turbo\",\n",
        "                                    messages=messages_list,\n",
        "                                    max_tokens = 15,\n",
        "                                    n=1,\n",
        "                                    temperature=0)\n",
        "\n",
        "    # print the chat completion\n",
        "    print(chat_completion.choices[0].message.content)\n",
        "\n",
        "    new_message = {\"role\":\"assistant\", \"content\":chat_completion.choices[0].message.content} # append new message to message list\n",
        "    messages_list.append(new_message)\n",
        "    time.sleep(0.1)"
      ]
    },
    {
      "cell_type": "code",
      "execution_count": null,
      "id": "4eff9df1-1759-4214-a1fe-70f9b90a9d37",
      "metadata": {
        "id": "4eff9df1-1759-4214-a1fe-70f9b90a9d37",
        "outputId": "e5881ace-e776-43f1-e38f-479251f38439"
      },
      "outputs": [
        {
          "data": {
            "text/plain": [
              "[{'role': 'system',\n",
              "  'content': 'I am Roxette lyric completion assistant. When given a line from a song, I will provide the next line in the song.'},\n",
              " {'role': 'user',\n",
              "  'content': \"I know there's something in the wake of your smile\"},\n",
              " {'role': 'assistant',\n",
              "  'content': 'I get a notion from the look in your eyes, yeah'},\n",
              " {'role': 'user', 'content': \"You've built a love but that love falls apart\"},\n",
              " {'role': 'assistant',\n",
              "  'content': 'Your little piece of Heaven turns too dark'},\n",
              " {'role': 'user', 'content': 'Listen to your'},\n",
              " {'role': 'assistant', 'content': \"Heart when he's calling for you\"},\n",
              " {'role': 'assistant',\n",
              "  'content': \"Listen to your heart, there's nothing else you can do\"},\n",
              " {'role': 'assistant',\n",
              "  'content': \"I don't know where you're going and I don't know why\"},\n",
              " {'role': 'assistant',\n",
              "  'content': 'But listen to your heart before you tell him goodbye'},\n",
              " {'role': 'assistant',\n",
              "  'content': 'And there are voices that want to be heard'},\n",
              " {'role': 'assistant',\n",
              "  'content': \"So much to mention but you can't find the words\"},\n",
              " {'role': 'assistant',\n",
              "  'content': \"The scent of magic, the beauty that's been when love was wilder\"},\n",
              " {'role': 'assistant', 'content': 'Listen to your heart, take a listen to it'}]"
            ]
          },
          "execution_count": 36,
          "metadata": {},
          "output_type": "execute_result"
        }
      ],
      "source": [
        "messages_list"
      ]
    },
    {
      "cell_type": "code",
      "execution_count": null,
      "id": "70634684-5910-4a32-94a9-d3aa1532faa0",
      "metadata": {
        "id": "70634684-5910-4a32-94a9-d3aa1532faa0",
        "outputId": "ac0f3ac2-878c-4bf7-c7cf-e75282c8f735"
      },
      "outputs": [
        {
          "name": "stdout",
          "output_type": "stream",
          "text": [
            "I am Roxette lyric completion assistant. When given a line from a song, I will provide the next line in the song.\n",
            "I know there's something in the wake of your smile\n",
            "I get a notion from the look in your eyes, yeah\n",
            "You've built a love but that love falls apart\n",
            "Your little piece of Heaven turns too dark\n",
            "Listen to your\n",
            "Heart when he's calling for you\n",
            "Listen to your heart, there's nothing else you can do\n",
            "I don't know where you're going and I don't know why\n",
            "But listen to your heart before you tell him goodbye\n",
            "And there are voices that want to be heard\n",
            "So much to mention but you can't find the words\n",
            "The scent of magic, the beauty that's been when love was wilder\n",
            "Listen to your heart, take a listen to it\n"
          ]
        }
      ],
      "source": [
        "for message in messages_list:\n",
        "    print(message['content'])\n"
      ]
    },
    {
      "cell_type": "code",
      "execution_count": null,
      "id": "a9e01af1-52a8-49d9-885e-a6c68116a4d2",
      "metadata": {
        "id": "a9e01af1-52a8-49d9-885e-a6c68116a4d2"
      },
      "outputs": [],
      "source": []
    }
  ],
  "metadata": {
    "kernelspec": {
      "display_name": "Python 3 (ipykernel)",
      "language": "python",
      "name": "python3"
    },
    "language_info": {
      "codemirror_mode": {
        "name": "ipython",
        "version": 3
      },
      "file_extension": ".py",
      "mimetype": "text/x-python",
      "name": "python",
      "nbconvert_exporter": "python",
      "pygments_lexer": "ipython3",
      "version": "3.11.5"
    },
    "colab": {
      "provenance": [],
      "include_colab_link": true
    }
  },
  "nbformat": 4,
  "nbformat_minor": 5
}