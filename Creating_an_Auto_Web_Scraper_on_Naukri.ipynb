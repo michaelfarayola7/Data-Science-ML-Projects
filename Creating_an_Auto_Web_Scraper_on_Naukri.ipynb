{
  "cells": [
    {
      "cell_type": "markdown",
      "metadata": {
        "id": "view-in-github",
        "colab_type": "text"
      },
      "source": [
        "<a href=\"https://colab.research.google.com/github/michaelfarayola7/Data-Science-ML-Projects/blob/main/Creating_an_Auto_Web_Scraper_on_Naukri.ipynb\" target=\"_parent\"><img src=\"https://colab.research.google.com/assets/colab-badge.svg\" alt=\"Open In Colab\"/></a>"
      ]
    },
    {
      "cell_type": "markdown",
      "metadata": {
        "id": "47JvI2WZ8jJu"
      },
      "source": [
        "## **Problem Statement**"
      ]
    },
    {
      "cell_type": "markdown",
      "metadata": {
        "id": "T7LmsenP8jVe"
      },
      "source": [
        "Scrape all job postings by area from the links given in the file ‘link_by_areas.csv’. For every link, loop through all the job postings by page, collecting all the information for a given posting.\n",
        "\n",
        "Create an output CSV file with job title, company, experience, salary, location, description, tags associated, function area, posting date, scraping date."
      ]
    },
    {
      "cell_type": "markdown",
      "metadata": {
        "id": "2bCIXFqP8q57"
      },
      "source": [
        "# **Solution**"
      ]
    },
    {
      "cell_type": "markdown",
      "metadata": {
        "id": "haEQmk5m8q9M"
      },
      "source": [
        "The task at hand is to build a Python Auto Scraper tool that will scrape data from Naukri job site and save the output as a CSV file which can be used for further analysis.\n",
        "\n",
        "\n",
        "In order to accomplish this task. I will be using ***Python*** to scrape the required data from the job search site-***Naukri***."
      ]
    },
    {
      "cell_type": "markdown",
      "metadata": {
        "id": "8ETK08Cm8399"
      },
      "source": [
        "To begin with, the necessary libraries needs to be imported.\n",
        "\n",
        "**WebDriver**: drives a browser natively, as a user would, either locally or on a remote machine using the Selenium server, marks a leap forward in terms of browser automation.\n",
        "\n",
        "**Selenium WebDriver**: refers to both the language bindings and the implementations of the individual browser controlling code. This is commonly referred to as just WebDriver.\n",
        "\n",
        "**Beautiful Soup**: is a Python library for pulling data out of HTML and XML files. It works with your favorite parser to provide idiomatic ways of navigating, searching, and modifying the parse tree.\n",
        "\n",
        "**Pandas**: is a fast, powerful, flexible and easy to use open source data analysis and manipulation tool, built on top of the Python programming language. Used for dataframe manupulations."
      ]
    },
    {
      "cell_type": "code",
      "execution_count": null,
      "metadata": {
        "id": "iWKwMncK8u7O"
      },
      "outputs": [],
      "source": [
        "# Importing the libraries\n",
        "\n",
        "from selenium import webdriver\n",
        "import chromedriver_binary\n",
        "from bs4 import BeautifulSoup\n",
        "import time\n",
        "import pandas as pd"
      ]
    },
    {
      "cell_type": "code",
      "execution_count": null,
      "metadata": {
        "id": "3ohrYnng_WDh",
        "outputId": "0bbcc8e1-dff8-4af2-a59d-4b775e29e4e4"
      },
      "outputs": [
        {
          "name": "stdout",
          "output_type": "stream",
          "text": [
            "Requirement already satisfied: html5lib in c:\\users\\micha\\anaconda3\\lib\\site-packages (1.1)\n",
            "Requirement already satisfied: webencodings in c:\\users\\micha\\anaconda3\\lib\\site-packages (from html5lib) (0.5.1)\n",
            "Requirement already satisfied: six>=1.9 in c:\\users\\micha\\anaconda3\\lib\\site-packages (from html5lib) (1.16.0)\n"
          ]
        }
      ],
      "source": [
        "!pip install html5lib"
      ]
    },
    {
      "cell_type": "code",
      "execution_count": null,
      "metadata": {
        "id": "yH9oh9GA_WDi"
      },
      "outputs": [],
      "source": [
        "joblink = pd.read_csv('link_by_areas.csv')"
      ]
    },
    {
      "cell_type": "code",
      "execution_count": null,
      "metadata": {
        "id": "PqKkMQOG_WDj",
        "outputId": "9a47f463-48b0-484e-b384-4d7db0054457"
      },
      "outputs": [
        {
          "data": {
            "text/html": [
              "<div>\n",
              "<style scoped>\n",
              "    .dataframe tbody tr th:only-of-type {\n",
              "        vertical-align: middle;\n",
              "    }\n",
              "\n",
              "    .dataframe tbody tr th {\n",
              "        vertical-align: top;\n",
              "    }\n",
              "\n",
              "    .dataframe thead th {\n",
              "        text-align: right;\n",
              "    }\n",
              "</style>\n",
              "<table border=\"1\" class=\"dataframe\">\n",
              "  <thead>\n",
              "    <tr style=\"text-align: right;\">\n",
              "      <th></th>\n",
              "      <th>type</th>\n",
              "      <th>link</th>\n",
              "    </tr>\n",
              "  </thead>\n",
              "  <tbody>\n",
              "    <tr>\n",
              "      <th>0</th>\n",
              "      <td>Accounting Jobs</td>\n",
              "      <td>https://www.naukri.com/accounting-jobs?xt=cats...</td>\n",
              "    </tr>\n",
              "    <tr>\n",
              "      <th>1</th>\n",
              "      <td>Interior Design Jobs</td>\n",
              "      <td>https://www.naukri.com/interior-design-jobs?xt...</td>\n",
              "    </tr>\n",
              "    <tr>\n",
              "      <th>2</th>\n",
              "      <td>Bank Jobs</td>\n",
              "      <td>https://www.naukri.com/bank-jobs?xt=catsrch&amp;qf...</td>\n",
              "    </tr>\n",
              "    <tr>\n",
              "      <th>3</th>\n",
              "      <td>Content Writing Jobs</td>\n",
              "      <td>https://www.naukri.com/content-writing-jobs?xt...</td>\n",
              "    </tr>\n",
              "    <tr>\n",
              "      <th>4</th>\n",
              "      <td>Consultant Jobs</td>\n",
              "      <td>https://www.naukri.com/consultant-jobs?xt=cats...</td>\n",
              "    </tr>\n",
              "    <tr>\n",
              "      <th>5</th>\n",
              "      <td>Engineering Jobs</td>\n",
              "      <td>https://www.naukri.com/engineering-jobs?xt=cat...</td>\n",
              "    </tr>\n",
              "    <tr>\n",
              "      <th>6</th>\n",
              "      <td>Export Import Jobs</td>\n",
              "      <td>https://www.naukri.com/export-import-jobs?xt=c...</td>\n",
              "    </tr>\n",
              "    <tr>\n",
              "      <th>7</th>\n",
              "      <td>Merchandiser Jobs</td>\n",
              "      <td>https://www.naukri.com/merchandiser-jobs?xt=ca...</td>\n",
              "    </tr>\n",
              "    <tr>\n",
              "      <th>8</th>\n",
              "      <td>Security Jobs</td>\n",
              "      <td>https://www.naukri.com/security-jobs?xt=catsrc...</td>\n",
              "    </tr>\n",
              "    <tr>\n",
              "      <th>9</th>\n",
              "      <td>HR Jobs</td>\n",
              "      <td>https://www.naukri.com/hr-jobs?xt=catsrch&amp;qf[]=12</td>\n",
              "    </tr>\n",
              "    <tr>\n",
              "      <th>10</th>\n",
              "      <td>Hotel Jobs</td>\n",
              "      <td>https://www.naukri.com/hotel-jobs?xt=catsrch&amp;q...</td>\n",
              "    </tr>\n",
              "    <tr>\n",
              "      <th>11</th>\n",
              "      <td>Application Programming Jobs</td>\n",
              "      <td>https://www.naukri.com/application-programming...</td>\n",
              "    </tr>\n",
              "    <tr>\n",
              "      <th>12</th>\n",
              "      <td>Client Server Jobs</td>\n",
              "      <td>https://www.naukri.com/client-server-jobs?xt=c...</td>\n",
              "    </tr>\n",
              "    <tr>\n",
              "      <th>13</th>\n",
              "      <td>DBA Jobs</td>\n",
              "      <td>https://www.naukri.com/dba-jobs?xt=catsrch&amp;qf[...</td>\n",
              "    </tr>\n",
              "    <tr>\n",
              "      <th>14</th>\n",
              "      <td>Ecommerce Jobs</td>\n",
              "      <td>https://www.naukri.com/ecommerce-jobs?xt=catsr...</td>\n",
              "    </tr>\n",
              "    <tr>\n",
              "      <th>15</th>\n",
              "      <td>ERP Jobs</td>\n",
              "      <td>https://www.naukri.com/erp-jobs?xt=catsrch&amp;qf[...</td>\n",
              "    </tr>\n",
              "    <tr>\n",
              "      <th>16</th>\n",
              "      <td>VLSI Jobs</td>\n",
              "      <td>https://www.naukri.com/vlsi-jobs?xt=catsrch&amp;qf...</td>\n",
              "    </tr>\n",
              "    <tr>\n",
              "      <th>17</th>\n",
              "      <td>Mainframe Jobs</td>\n",
              "      <td>https://www.naukri.com/mainframe-jobs?xt=catsr...</td>\n",
              "    </tr>\n",
              "    <tr>\n",
              "      <th>18</th>\n",
              "      <td>Middleware Jobs</td>\n",
              "      <td>https://www.naukri.com/middleware-jobs?xt=cats...</td>\n",
              "    </tr>\n",
              "    <tr>\n",
              "      <th>19</th>\n",
              "      <td>Mobile Jobs</td>\n",
              "      <td>https://www.naukri.com/mobile-jobs?xt=catsrch&amp;...</td>\n",
              "    </tr>\n",
              "    <tr>\n",
              "      <th>20</th>\n",
              "      <td>Network administrator Jobs</td>\n",
              "      <td>https://www.naukri.com/network-administrator-j...</td>\n",
              "    </tr>\n",
              "    <tr>\n",
              "      <th>21</th>\n",
              "      <td>IT Jobs</td>\n",
              "      <td>https://www.naukri.com/information-technology-...</td>\n",
              "    </tr>\n",
              "    <tr>\n",
              "      <th>22</th>\n",
              "      <td>Testing Jobs</td>\n",
              "      <td>https://www.naukri.com/testing-jobs?xt=catsrch...</td>\n",
              "    </tr>\n",
              "    <tr>\n",
              "      <th>23</th>\n",
              "      <td>System Programming Jobs</td>\n",
              "      <td>https://www.naukri.com/system-programming-jobs...</td>\n",
              "    </tr>\n",
              "    <tr>\n",
              "      <th>24</th>\n",
              "      <td>EDP Jobs</td>\n",
              "      <td>https://www.naukri.com/edp-jobs?xt=catsrch&amp;qf[...</td>\n",
              "    </tr>\n",
              "    <tr>\n",
              "      <th>25</th>\n",
              "      <td>Telecom Software Jobs</td>\n",
              "      <td>https://www.naukri.com/telecom-software-jobs?x...</td>\n",
              "    </tr>\n",
              "    <tr>\n",
              "      <th>26</th>\n",
              "      <td>Telecom Jobs</td>\n",
              "      <td>https://www.naukri.com/telecom-jobs?xt=catsrch...</td>\n",
              "    </tr>\n",
              "    <tr>\n",
              "      <th>27</th>\n",
              "      <td>BPO Jobs</td>\n",
              "      <td>https://www.naukri.com/bpo-jobs?xt=catsrch&amp;qf[]=8</td>\n",
              "    </tr>\n",
              "    <tr>\n",
              "      <th>28</th>\n",
              "      <td>Legal Jobs</td>\n",
              "      <td>https://www.naukri.com/legal-jobs?xt=catsrch&amp;q...</td>\n",
              "    </tr>\n",
              "    <tr>\n",
              "      <th>29</th>\n",
              "      <td>Marketing Jobs</td>\n",
              "      <td>https://www.naukri.com/marketing-jobs?xt=catsr...</td>\n",
              "    </tr>\n",
              "    <tr>\n",
              "      <th>30</th>\n",
              "      <td>Packaging Jobs</td>\n",
              "      <td>https://www.naukri.com/packaging-jobs?xt=catsr...</td>\n",
              "    </tr>\n",
              "    <tr>\n",
              "      <th>31</th>\n",
              "      <td>Pharma Jobs</td>\n",
              "      <td>https://www.naukri.com/pharma-jobs?xt=catsrch&amp;...</td>\n",
              "    </tr>\n",
              "    <tr>\n",
              "      <th>32</th>\n",
              "      <td>Maintenance Jobs</td>\n",
              "      <td>https://www.naukri.com/maintenance-jobs?xt=cat...</td>\n",
              "    </tr>\n",
              "    <tr>\n",
              "      <th>33</th>\n",
              "      <td>Logistics Jobs</td>\n",
              "      <td>https://www.naukri.com/logistics-jobs?xt=catsr...</td>\n",
              "    </tr>\n",
              "    <tr>\n",
              "      <th>34</th>\n",
              "      <td>Sales Jobs</td>\n",
              "      <td>https://www.naukri.com/sales-jobs?xt=catsrch&amp;q...</td>\n",
              "    </tr>\n",
              "    <tr>\n",
              "      <th>35</th>\n",
              "      <td>Secretary Jobs</td>\n",
              "      <td>https://www.naukri.com/secretary-jobs?xt=catsr...</td>\n",
              "    </tr>\n",
              "    <tr>\n",
              "      <th>36</th>\n",
              "      <td>Corporate Planning Jobs</td>\n",
              "      <td>https://www.naukri.com/corporate-planning-jobs...</td>\n",
              "    </tr>\n",
              "    <tr>\n",
              "      <th>37</th>\n",
              "      <td>Site Engineering Jobs</td>\n",
              "      <td>https://www.naukri.com/site-engineering-jobs?x...</td>\n",
              "    </tr>\n",
              "    <tr>\n",
              "      <th>38</th>\n",
              "      <td>Film Jobs</td>\n",
              "      <td>https://www.naukri.com/film-jobs?xt=catsrch&amp;qf...</td>\n",
              "    </tr>\n",
              "    <tr>\n",
              "      <th>39</th>\n",
              "      <td>Teacher Jobs</td>\n",
              "      <td>https://www.naukri.com/teaching-jobs?xt=catsrc...</td>\n",
              "    </tr>\n",
              "    <tr>\n",
              "      <th>40</th>\n",
              "      <td>Airline Jobs</td>\n",
              "      <td>https://www.naukri.com/airline-jobs?xt=catsrch...</td>\n",
              "    </tr>\n",
              "    <tr>\n",
              "      <th>41</th>\n",
              "      <td>Graphic Designer Jobs</td>\n",
              "      <td>https://www.naukri.com/graphic-designer-jobs?x...</td>\n",
              "    </tr>\n",
              "    <tr>\n",
              "      <th>42</th>\n",
              "      <td>Shipping Jobs</td>\n",
              "      <td>https://www.naukri.com/shipping-jobs?xt=catsrc...</td>\n",
              "    </tr>\n",
              "    <tr>\n",
              "      <th>43</th>\n",
              "      <td>Analytics Jobs</td>\n",
              "      <td>https://www.naukri.com/analytics-jobs?xt=catsr...</td>\n",
              "    </tr>\n",
              "    <tr>\n",
              "      <th>44</th>\n",
              "      <td>Business Intelligence Jobs</td>\n",
              "      <td>https://www.naukri.com/business-intelligence-j...</td>\n",
              "    </tr>\n",
              "  </tbody>\n",
              "</table>\n",
              "</div>"
            ],
            "text/plain": [
              "                            type  \\\n",
              "0                Accounting Jobs   \n",
              "1           Interior Design Jobs   \n",
              "2                      Bank Jobs   \n",
              "3           Content Writing Jobs   \n",
              "4                Consultant Jobs   \n",
              "5               Engineering Jobs   \n",
              "6             Export Import Jobs   \n",
              "7              Merchandiser Jobs   \n",
              "8                  Security Jobs   \n",
              "9                        HR Jobs   \n",
              "10                    Hotel Jobs   \n",
              "11  Application Programming Jobs   \n",
              "12            Client Server Jobs   \n",
              "13                      DBA Jobs   \n",
              "14                Ecommerce Jobs   \n",
              "15                      ERP Jobs   \n",
              "16                     VLSI Jobs   \n",
              "17                Mainframe Jobs   \n",
              "18               Middleware Jobs   \n",
              "19                   Mobile Jobs   \n",
              "20    Network administrator Jobs   \n",
              "21                       IT Jobs   \n",
              "22                  Testing Jobs   \n",
              "23       System Programming Jobs   \n",
              "24                      EDP Jobs   \n",
              "25         Telecom Software Jobs   \n",
              "26                  Telecom Jobs   \n",
              "27                      BPO Jobs   \n",
              "28                    Legal Jobs   \n",
              "29                Marketing Jobs   \n",
              "30                Packaging Jobs   \n",
              "31                   Pharma Jobs   \n",
              "32              Maintenance Jobs   \n",
              "33                Logistics Jobs   \n",
              "34                    Sales Jobs   \n",
              "35                Secretary Jobs   \n",
              "36       Corporate Planning Jobs   \n",
              "37         Site Engineering Jobs   \n",
              "38                     Film Jobs   \n",
              "39                  Teacher Jobs   \n",
              "40                  Airline Jobs   \n",
              "41         Graphic Designer Jobs   \n",
              "42                 Shipping Jobs   \n",
              "43                Analytics Jobs   \n",
              "44    Business Intelligence Jobs   \n",
              "\n",
              "                                                 link  \n",
              "0   https://www.naukri.com/accounting-jobs?xt=cats...  \n",
              "1   https://www.naukri.com/interior-design-jobs?xt...  \n",
              "2   https://www.naukri.com/bank-jobs?xt=catsrch&qf...  \n",
              "3   https://www.naukri.com/content-writing-jobs?xt...  \n",
              "4   https://www.naukri.com/consultant-jobs?xt=cats...  \n",
              "5   https://www.naukri.com/engineering-jobs?xt=cat...  \n",
              "6   https://www.naukri.com/export-import-jobs?xt=c...  \n",
              "7   https://www.naukri.com/merchandiser-jobs?xt=ca...  \n",
              "8   https://www.naukri.com/security-jobs?xt=catsrc...  \n",
              "9   https://www.naukri.com/hr-jobs?xt=catsrch&qf[]=12  \n",
              "10  https://www.naukri.com/hotel-jobs?xt=catsrch&q...  \n",
              "11  https://www.naukri.com/application-programming...  \n",
              "12  https://www.naukri.com/client-server-jobs?xt=c...  \n",
              "13  https://www.naukri.com/dba-jobs?xt=catsrch&qf[...  \n",
              "14  https://www.naukri.com/ecommerce-jobs?xt=catsr...  \n",
              "15  https://www.naukri.com/erp-jobs?xt=catsrch&qf[...  \n",
              "16  https://www.naukri.com/vlsi-jobs?xt=catsrch&qf...  \n",
              "17  https://www.naukri.com/mainframe-jobs?xt=catsr...  \n",
              "18  https://www.naukri.com/middleware-jobs?xt=cats...  \n",
              "19  https://www.naukri.com/mobile-jobs?xt=catsrch&...  \n",
              "20  https://www.naukri.com/network-administrator-j...  \n",
              "21  https://www.naukri.com/information-technology-...  \n",
              "22  https://www.naukri.com/testing-jobs?xt=catsrch...  \n",
              "23  https://www.naukri.com/system-programming-jobs...  \n",
              "24  https://www.naukri.com/edp-jobs?xt=catsrch&qf[...  \n",
              "25  https://www.naukri.com/telecom-software-jobs?x...  \n",
              "26  https://www.naukri.com/telecom-jobs?xt=catsrch...  \n",
              "27  https://www.naukri.com/bpo-jobs?xt=catsrch&qf[]=8  \n",
              "28  https://www.naukri.com/legal-jobs?xt=catsrch&q...  \n",
              "29  https://www.naukri.com/marketing-jobs?xt=catsr...  \n",
              "30  https://www.naukri.com/packaging-jobs?xt=catsr...  \n",
              "31  https://www.naukri.com/pharma-jobs?xt=catsrch&...  \n",
              "32  https://www.naukri.com/maintenance-jobs?xt=cat...  \n",
              "33  https://www.naukri.com/logistics-jobs?xt=catsr...  \n",
              "34  https://www.naukri.com/sales-jobs?xt=catsrch&q...  \n",
              "35  https://www.naukri.com/secretary-jobs?xt=catsr...  \n",
              "36  https://www.naukri.com/corporate-planning-jobs...  \n",
              "37  https://www.naukri.com/site-engineering-jobs?x...  \n",
              "38  https://www.naukri.com/film-jobs?xt=catsrch&qf...  \n",
              "39  https://www.naukri.com/teaching-jobs?xt=catsrc...  \n",
              "40  https://www.naukri.com/airline-jobs?xt=catsrch...  \n",
              "41  https://www.naukri.com/graphic-designer-jobs?x...  \n",
              "42  https://www.naukri.com/shipping-jobs?xt=catsrc...  \n",
              "43  https://www.naukri.com/analytics-jobs?xt=catsr...  \n",
              "44  https://www.naukri.com/business-intelligence-j...  "
            ]
          },
          "execution_count": 4,
          "metadata": {},
          "output_type": "execute_result"
        }
      ],
      "source": [
        "joblink"
      ]
    },
    {
      "cell_type": "code",
      "execution_count": null,
      "metadata": {
        "id": "M4g98lkX_WDk",
        "outputId": "91cfd0a4-72db-4f72-e366-2e7c4fab6cf3"
      },
      "outputs": [
        {
          "data": {
            "text/plain": [
              "'https://www.naukri.com/accounting-jobs?xt=catsrch&qf[]=1'"
            ]
          },
          "execution_count": 5,
          "metadata": {},
          "output_type": "execute_result"
        }
      ],
      "source": [
        "joblink['link'][0]"
      ]
    },
    {
      "cell_type": "code",
      "execution_count": null,
      "metadata": {
        "id": "23bdbVT5_WDk",
        "outputId": "f4399dd0-007f-4b22-b4f6-1c4203d35793"
      },
      "outputs": [
        {
          "data": {
            "text/plain": [
              "'https://www.naukri.com/hotel-jobs?xt=catsrch&qf[]=4'"
            ]
          },
          "execution_count": 6,
          "metadata": {},
          "output_type": "execute_result"
        }
      ],
      "source": [
        "joblink['link'][10]"
      ]
    },
    {
      "cell_type": "code",
      "execution_count": null,
      "metadata": {
        "id": "wi1uWwNo_WDl",
        "outputId": "2b34d5ed-00f7-4675-8c4e-25e35ab540d5"
      },
      "outputs": [
        {
          "data": {
            "text/plain": [
              "'https://www.naukri.com/telecom-jobs?xt=catsrch&qf[]=37'"
            ]
          },
          "execution_count": 7,
          "metadata": {},
          "output_type": "execute_result"
        }
      ],
      "source": [
        "joblink['link'][26]"
      ]
    },
    {
      "cell_type": "markdown",
      "metadata": {
        "id": "qV-o-uN0_WDl"
      },
      "source": [
        "# The **URL STRUCTURE**\n",
        "\n",
        "In order to scrape data from one page to the other, the urls need to be created in such a way that it will automatically adjust to move move from one page to the other.\n",
        "\n",
        "When we look closely at the **urls**, we can see that all the urls have the domain **https://www.naukri.com/** followed by the job type, then the **page number** and a question mark as shown below. We will need to find a way to make the page number generic in order to be able to navigate through different pages automatically."
      ]
    },
    {
      "cell_type": "markdown",
      "metadata": {
        "id": "hA3yyw6D_WDl"
      },
      "source": [
        "Let's first convert our urls to a list"
      ]
    },
    {
      "cell_type": "code",
      "execution_count": null,
      "metadata": {
        "id": "CvBnjh9u_WDl"
      },
      "outputs": [],
      "source": [
        "urls = joblink['link'].tolist()"
      ]
    },
    {
      "cell_type": "code",
      "execution_count": null,
      "metadata": {
        "id": "AD--T94g_WDm",
        "outputId": "a8f2fa89-cfd4-4b17-996e-f1e46afd2871"
      },
      "outputs": [
        {
          "data": {
            "text/plain": [
              "['https://www.naukri.com/accounting-jobs?xt=catsrch&qf[]=1',\n",
              " 'https://www.naukri.com/interior-design-jobs?xt=catsrch&qf[]=2',\n",
              " 'https://www.naukri.com/bank-jobs?xt=catsrch&qf[]=6',\n",
              " 'https://www.naukri.com/content-writing-jobs?xt=catsrch&qf[]=5',\n",
              " 'https://www.naukri.com/consultant-jobs?xt=catsrch&qf[]=9',\n",
              " 'https://www.naukri.com/engineering-jobs?xt=catsrch&qf[]=21',\n",
              " 'https://www.naukri.com/export-import-jobs?xt=catsrch&qf[]=10',\n",
              " 'https://www.naukri.com/merchandiser-jobs?xt=catsrch&qf[]=10',\n",
              " 'https://www.naukri.com/security-jobs?xt=catsrch&qf[]=45',\n",
              " 'https://www.naukri.com/hr-jobs?xt=catsrch&qf[]=12',\n",
              " 'https://www.naukri.com/hotel-jobs?xt=catsrch&qf[]=4',\n",
              " 'https://www.naukri.com/application-programming-jobs?xt=catsrch&qf[]=24.01',\n",
              " 'https://www.naukri.com/client-server-jobs?xt=catsrch&qf[]=24.02',\n",
              " 'https://www.naukri.com/dba-jobs?xt=catsrch&qf[]=24.03',\n",
              " 'https://www.naukri.com/ecommerce-jobs?xt=catsrch&qf[]=24.12',\n",
              " 'https://www.naukri.com/erp-jobs?xt=catsrch&qf[]=24.04',\n",
              " 'https://www.naukri.com/vlsi-jobs?xt=catsrch&qf[]=24.05',\n",
              " 'https://www.naukri.com/mainframe-jobs?xt=catsrch&qf[]=24.13',\n",
              " 'https://www.naukri.com/middleware-jobs?xt=catsrch&qf[]=24.15',\n",
              " 'https://www.naukri.com/mobile-jobs?xt=catsrch&qf[]=24.14',\n",
              " 'https://www.naukri.com/network-administrator-jobs?xt=catsrch&qf[]=24.06',\n",
              " 'https://www.naukri.com/information-technology-jobs?xt=catsrch&qf[]=24',\n",
              " 'https://www.naukri.com/testing-jobs?xt=catsrch&qf[]=24.08',\n",
              " 'https://www.naukri.com/system-programming-jobs?xt=catsrch&qf[]=24.09',\n",
              " 'https://www.naukri.com/edp-jobs?xt=catsrch&qf[]=24.11',\n",
              " 'https://www.naukri.com/telecom-software-jobs?xt=catsrch&qf[]=24.10',\n",
              " 'https://www.naukri.com/telecom-jobs?xt=catsrch&qf[]=37',\n",
              " 'https://www.naukri.com/bpo-jobs?xt=catsrch&qf[]=8',\n",
              " 'https://www.naukri.com/legal-jobs?xt=catsrch&qf[]=13',\n",
              " 'https://www.naukri.com/marketing-jobs?xt=catsrch&qf[]=15',\n",
              " 'https://www.naukri.com/packaging-jobs?xt=catsrch&qf[]=18',\n",
              " 'https://www.naukri.com/pharma-jobs?xt=catsrch&qf[]=16',\n",
              " 'https://www.naukri.com/maintenance-jobs?xt=catsrch&qf[]=19',\n",
              " 'https://www.naukri.com/logistics-jobs?xt=catsrch&qf[]=14',\n",
              " 'https://www.naukri.com/sales-jobs?xt=catsrch&qf[]=22',\n",
              " 'https://www.naukri.com/secretary-jobs?xt=catsrch&qf[]=11',\n",
              " 'https://www.naukri.com/corporate-planning-jobs?xt=catsrch&qf[]=7',\n",
              " 'https://www.naukri.com/site-engineering-jobs?xt=catsrch&qf[]=20',\n",
              " 'https://www.naukri.com/film-jobs?xt=catsrch&qf[]=43',\n",
              " 'https://www.naukri.com/teaching-jobs?xt=catsrch&qf[]=36',\n",
              " 'https://www.naukri.com/airline-jobs?xt=catsrch&qf[]=44',\n",
              " 'https://www.naukri.com/graphic-designer-jobs?xt=catsrch&qf[]=3',\n",
              " 'https://www.naukri.com/shipping-jobs?xt=catsrch&qf[]=82',\n",
              " 'https://www.naukri.com/analytics-jobs?xt=catsrch&qf[]=81',\n",
              " 'https://www.naukri.com/business-intelligence-jobs?xt=catsrch&qf[]=81']"
            ]
          },
          "execution_count": 9,
          "metadata": {},
          "output_type": "execute_result"
        }
      ],
      "source": [
        "urls"
      ]
    },
    {
      "cell_type": "markdown",
      "metadata": {
        "id": "CoInCnmM_WDm"
      },
      "source": [
        "<br>\n",
        "\n",
        "In order to make the **urls** generic. We will need use a library called **Yarl**(Yet another URL library). All url parts: scheme, user, password, host, port, path, query and fragment are accessible by yarl properties.\n",
        "\n",
        "We will use **yarl** to access different parts of the variuos **urls**.\n",
        "\n"
      ]
    },
    {
      "cell_type": "code",
      "execution_count": null,
      "metadata": {
        "id": "JW0NBl5w_WDm",
        "outputId": "118fd388-d97f-4c12-e946-7e707f195109"
      },
      "outputs": [
        {
          "data": {
            "text/plain": [
              "'https://www.naukri.com/accounting-jobs?xt=catsrch&qf[]=1'"
            ]
          },
          "execution_count": 10,
          "metadata": {},
          "output_type": "execute_result"
        }
      ],
      "source": [
        "joblink['link'][0]"
      ]
    },
    {
      "cell_type": "markdown",
      "metadata": {
        "id": "qRCC12UZ_WDm"
      },
      "source": [
        "### **Given the above URL, the urls parts are as follows:**\n",
        "\n",
        "scheme == 'https' <br>\n",
        "host == 'www.naukri.com' <br>\n",
        "port == 443 <br>\n",
        "path == '/accounting-jobs' <br>\n",
        "query_string == 'xt=catsrch&qf[]=1'"
      ]
    },
    {
      "cell_type": "code",
      "execution_count": null,
      "metadata": {
        "id": "htJVLn9R_WDm"
      },
      "outputs": [],
      "source": [
        "# #in order to use yarl, we need to first install the yarl library\n",
        "# !pip install yarl"
      ]
    },
    {
      "cell_type": "code",
      "execution_count": null,
      "metadata": {
        "id": "wktm0Avt_WDn"
      },
      "outputs": [],
      "source": [
        "#importing the yarl library\n",
        "\n",
        "import yarl\n",
        "from yarl import URL"
      ]
    },
    {
      "cell_type": "code",
      "execution_count": null,
      "metadata": {
        "id": "pe693ETA_WDn"
      },
      "outputs": [],
      "source": [
        "n = [] #an empty set that will contain the job type of the url\n",
        "for i in urls:\n",
        "    n.append(URL(i).path) #getting the job type part of the url using yarl property: path"
      ]
    },
    {
      "cell_type": "code",
      "execution_count": null,
      "metadata": {
        "id": "2hx1SMKK_WDn",
        "outputId": "1c0f6964-9a08-4577-ce8a-2aac8750f1d3"
      },
      "outputs": [
        {
          "data": {
            "text/plain": [
              "['/accounting-jobs',\n",
              " '/interior-design-jobs',\n",
              " '/bank-jobs',\n",
              " '/content-writing-jobs',\n",
              " '/consultant-jobs',\n",
              " '/engineering-jobs',\n",
              " '/export-import-jobs',\n",
              " '/merchandiser-jobs',\n",
              " '/security-jobs',\n",
              " '/hr-jobs',\n",
              " '/hotel-jobs',\n",
              " '/application-programming-jobs',\n",
              " '/client-server-jobs',\n",
              " '/dba-jobs',\n",
              " '/ecommerce-jobs',\n",
              " '/erp-jobs',\n",
              " '/vlsi-jobs',\n",
              " '/mainframe-jobs',\n",
              " '/middleware-jobs',\n",
              " '/mobile-jobs',\n",
              " '/network-administrator-jobs',\n",
              " '/information-technology-jobs',\n",
              " '/testing-jobs',\n",
              " '/system-programming-jobs',\n",
              " '/edp-jobs',\n",
              " '/telecom-software-jobs',\n",
              " '/telecom-jobs',\n",
              " '/bpo-jobs',\n",
              " '/legal-jobs',\n",
              " '/marketing-jobs',\n",
              " '/packaging-jobs',\n",
              " '/pharma-jobs',\n",
              " '/maintenance-jobs',\n",
              " '/logistics-jobs',\n",
              " '/sales-jobs',\n",
              " '/secretary-jobs',\n",
              " '/corporate-planning-jobs',\n",
              " '/site-engineering-jobs',\n",
              " '/film-jobs',\n",
              " '/teaching-jobs',\n",
              " '/airline-jobs',\n",
              " '/graphic-designer-jobs',\n",
              " '/shipping-jobs',\n",
              " '/analytics-jobs',\n",
              " '/business-intelligence-jobs']"
            ]
          },
          "execution_count": 14,
          "metadata": {},
          "output_type": "execute_result"
        }
      ],
      "source": [
        "#let's see what is contain in 'n'\n",
        "\n",
        "n"
      ]
    },
    {
      "cell_type": "code",
      "execution_count": null,
      "metadata": {
        "id": "YHTqawsQ_WDn"
      },
      "outputs": [],
      "source": [
        "m = []\n",
        "\n",
        "for i in urls:\n",
        "    m.append(URL(i).query_string)"
      ]
    },
    {
      "cell_type": "code",
      "execution_count": null,
      "metadata": {
        "id": "r8ifwIlj_WDn",
        "outputId": "ca63eaa9-a400-4167-bc78-c5bb1ea3cb84"
      },
      "outputs": [
        {
          "data": {
            "text/plain": [
              "['xt=catsrch&qf[]=1',\n",
              " 'xt=catsrch&qf[]=2',\n",
              " 'xt=catsrch&qf[]=6',\n",
              " 'xt=catsrch&qf[]=5',\n",
              " 'xt=catsrch&qf[]=9',\n",
              " 'xt=catsrch&qf[]=21',\n",
              " 'xt=catsrch&qf[]=10',\n",
              " 'xt=catsrch&qf[]=10',\n",
              " 'xt=catsrch&qf[]=45',\n",
              " 'xt=catsrch&qf[]=12',\n",
              " 'xt=catsrch&qf[]=4',\n",
              " 'xt=catsrch&qf[]=24.01',\n",
              " 'xt=catsrch&qf[]=24.02',\n",
              " 'xt=catsrch&qf[]=24.03',\n",
              " 'xt=catsrch&qf[]=24.12',\n",
              " 'xt=catsrch&qf[]=24.04',\n",
              " 'xt=catsrch&qf[]=24.05',\n",
              " 'xt=catsrch&qf[]=24.13',\n",
              " 'xt=catsrch&qf[]=24.15',\n",
              " 'xt=catsrch&qf[]=24.14',\n",
              " 'xt=catsrch&qf[]=24.06',\n",
              " 'xt=catsrch&qf[]=24',\n",
              " 'xt=catsrch&qf[]=24.08',\n",
              " 'xt=catsrch&qf[]=24.09',\n",
              " 'xt=catsrch&qf[]=24.11',\n",
              " 'xt=catsrch&qf[]=24.10',\n",
              " 'xt=catsrch&qf[]=37',\n",
              " 'xt=catsrch&qf[]=8',\n",
              " 'xt=catsrch&qf[]=13',\n",
              " 'xt=catsrch&qf[]=15',\n",
              " 'xt=catsrch&qf[]=18',\n",
              " 'xt=catsrch&qf[]=16',\n",
              " 'xt=catsrch&qf[]=19',\n",
              " 'xt=catsrch&qf[]=14',\n",
              " 'xt=catsrch&qf[]=22',\n",
              " 'xt=catsrch&qf[]=11',\n",
              " 'xt=catsrch&qf[]=7',\n",
              " 'xt=catsrch&qf[]=20',\n",
              " 'xt=catsrch&qf[]=43',\n",
              " 'xt=catsrch&qf[]=36',\n",
              " 'xt=catsrch&qf[]=44',\n",
              " 'xt=catsrch&qf[]=3',\n",
              " 'xt=catsrch&qf[]=82',\n",
              " 'xt=catsrch&qf[]=81',\n",
              " 'xt=catsrch&qf[]=81']"
            ]
          },
          "execution_count": 16,
          "metadata": {},
          "output_type": "execute_result"
        }
      ],
      "source": [
        "m"
      ]
    },
    {
      "cell_type": "markdown",
      "metadata": {
        "id": "TnIk-Uxt_WDn"
      },
      "source": [
        "<br>\n",
        "\n",
        "Now that we have been able to extract the variuos parts of the **urls**, we will stitch them together but this time we will add a placeholder **-{}** after the ***job type part*** of the url."
      ]
    },
    {
      "cell_type": "code",
      "execution_count": null,
      "metadata": {
        "id": "TT2-AYDi_WDo"
      },
      "outputs": [],
      "source": [
        "gen_urls = []\n",
        "\n",
        "for i in range(len(n)):\n",
        "    url = 'https://www.naukri.com/' + n[i] + '-{}?' + m[i]\n",
        "    gen_urls.append(url)"
      ]
    },
    {
      "cell_type": "markdown",
      "metadata": {
        "id": "2PS-ySOD_WDo"
      },
      "source": [
        "As seen below, all good. we have the our urls with a placeholder **{}** where we can simply be adding our page numbers to navigate to different pages as we scrape our data."
      ]
    },
    {
      "cell_type": "code",
      "execution_count": null,
      "metadata": {
        "id": "_8J-Qs4c_WDo",
        "outputId": "2dd04bb4-85e0-46c3-f5a4-92a7f1807482"
      },
      "outputs": [
        {
          "data": {
            "text/plain": [
              "['https://www.naukri.com//accounting-jobs-{}?xt=catsrch&qf[]=1',\n",
              " 'https://www.naukri.com//interior-design-jobs-{}?xt=catsrch&qf[]=2',\n",
              " 'https://www.naukri.com//bank-jobs-{}?xt=catsrch&qf[]=6',\n",
              " 'https://www.naukri.com//content-writing-jobs-{}?xt=catsrch&qf[]=5',\n",
              " 'https://www.naukri.com//consultant-jobs-{}?xt=catsrch&qf[]=9',\n",
              " 'https://www.naukri.com//engineering-jobs-{}?xt=catsrch&qf[]=21',\n",
              " 'https://www.naukri.com//export-import-jobs-{}?xt=catsrch&qf[]=10',\n",
              " 'https://www.naukri.com//merchandiser-jobs-{}?xt=catsrch&qf[]=10',\n",
              " 'https://www.naukri.com//security-jobs-{}?xt=catsrch&qf[]=45',\n",
              " 'https://www.naukri.com//hr-jobs-{}?xt=catsrch&qf[]=12',\n",
              " 'https://www.naukri.com//hotel-jobs-{}?xt=catsrch&qf[]=4',\n",
              " 'https://www.naukri.com//application-programming-jobs-{}?xt=catsrch&qf[]=24.01',\n",
              " 'https://www.naukri.com//client-server-jobs-{}?xt=catsrch&qf[]=24.02',\n",
              " 'https://www.naukri.com//dba-jobs-{}?xt=catsrch&qf[]=24.03',\n",
              " 'https://www.naukri.com//ecommerce-jobs-{}?xt=catsrch&qf[]=24.12',\n",
              " 'https://www.naukri.com//erp-jobs-{}?xt=catsrch&qf[]=24.04',\n",
              " 'https://www.naukri.com//vlsi-jobs-{}?xt=catsrch&qf[]=24.05',\n",
              " 'https://www.naukri.com//mainframe-jobs-{}?xt=catsrch&qf[]=24.13',\n",
              " 'https://www.naukri.com//middleware-jobs-{}?xt=catsrch&qf[]=24.15',\n",
              " 'https://www.naukri.com//mobile-jobs-{}?xt=catsrch&qf[]=24.14',\n",
              " 'https://www.naukri.com//network-administrator-jobs-{}?xt=catsrch&qf[]=24.06',\n",
              " 'https://www.naukri.com//information-technology-jobs-{}?xt=catsrch&qf[]=24',\n",
              " 'https://www.naukri.com//testing-jobs-{}?xt=catsrch&qf[]=24.08',\n",
              " 'https://www.naukri.com//system-programming-jobs-{}?xt=catsrch&qf[]=24.09',\n",
              " 'https://www.naukri.com//edp-jobs-{}?xt=catsrch&qf[]=24.11',\n",
              " 'https://www.naukri.com//telecom-software-jobs-{}?xt=catsrch&qf[]=24.10',\n",
              " 'https://www.naukri.com//telecom-jobs-{}?xt=catsrch&qf[]=37',\n",
              " 'https://www.naukri.com//bpo-jobs-{}?xt=catsrch&qf[]=8',\n",
              " 'https://www.naukri.com//legal-jobs-{}?xt=catsrch&qf[]=13',\n",
              " 'https://www.naukri.com//marketing-jobs-{}?xt=catsrch&qf[]=15',\n",
              " 'https://www.naukri.com//packaging-jobs-{}?xt=catsrch&qf[]=18',\n",
              " 'https://www.naukri.com//pharma-jobs-{}?xt=catsrch&qf[]=16',\n",
              " 'https://www.naukri.com//maintenance-jobs-{}?xt=catsrch&qf[]=19',\n",
              " 'https://www.naukri.com//logistics-jobs-{}?xt=catsrch&qf[]=14',\n",
              " 'https://www.naukri.com//sales-jobs-{}?xt=catsrch&qf[]=22',\n",
              " 'https://www.naukri.com//secretary-jobs-{}?xt=catsrch&qf[]=11',\n",
              " 'https://www.naukri.com//corporate-planning-jobs-{}?xt=catsrch&qf[]=7',\n",
              " 'https://www.naukri.com//site-engineering-jobs-{}?xt=catsrch&qf[]=20',\n",
              " 'https://www.naukri.com//film-jobs-{}?xt=catsrch&qf[]=43',\n",
              " 'https://www.naukri.com//teaching-jobs-{}?xt=catsrch&qf[]=36',\n",
              " 'https://www.naukri.com//airline-jobs-{}?xt=catsrch&qf[]=44',\n",
              " 'https://www.naukri.com//graphic-designer-jobs-{}?xt=catsrch&qf[]=3',\n",
              " 'https://www.naukri.com//shipping-jobs-{}?xt=catsrch&qf[]=82',\n",
              " 'https://www.naukri.com//analytics-jobs-{}?xt=catsrch&qf[]=81',\n",
              " 'https://www.naukri.com//business-intelligence-jobs-{}?xt=catsrch&qf[]=81']"
            ]
          },
          "execution_count": 18,
          "metadata": {},
          "output_type": "execute_result"
        }
      ],
      "source": [
        "gen_urls"
      ]
    },
    {
      "cell_type": "code",
      "execution_count": null,
      "metadata": {
        "id": "M3rc6Txq_WDo",
        "outputId": "f0b9d192-ab4f-4026-9118-41cf76896723"
      },
      "outputs": [
        {
          "data": {
            "text/plain": [
              "(45, 2)"
            ]
          },
          "execution_count": 19,
          "metadata": {},
          "output_type": "execute_result"
        }
      ],
      "source": [
        "joblink.shape"
      ]
    },
    {
      "cell_type": "code",
      "execution_count": null,
      "metadata": {
        "id": "IK-PBxjA_WDo",
        "outputId": "5a967ffb-62d2-4296-d92a-645775fb3046"
      },
      "outputs": [
        {
          "data": {
            "text/plain": [
              "45"
            ]
          },
          "execution_count": 20,
          "metadata": {},
          "output_type": "execute_result"
        }
      ],
      "source": [
        "len(gen_urls)"
      ]
    },
    {
      "cell_type": "markdown",
      "metadata": {
        "id": "PaC08nwA_WDo"
      },
      "source": [
        "# **Scraping Data From Naukri.Com**"
      ]
    },
    {
      "cell_type": "markdown",
      "metadata": {
        "id": "tJ98_LGx_WDo"
      },
      "source": [
        "In order to scrape the required data from naukri.com, we will follow a simple two step process:\n",
        "\n",
        "\n",
        "\n",
        "1.   Define a dataframe which will contain our data\n",
        "2.   Create a generic python code which will help to extract the data as required.\n",
        "\n"
      ]
    },
    {
      "cell_type": "markdown",
      "metadata": {
        "id": "Ponv6bOw_WDo"
      },
      "source": [
        "<br>\n",
        "\n",
        "\n",
        "**Creating a dataframe to store our scraped data**"
      ]
    },
    {
      "cell_type": "code",
      "execution_count": null,
      "metadata": {
        "id": "Nzosdw-w_WDo"
      },
      "outputs": [],
      "source": [
        "df = pd.DataFrame(columns=['Job_title', 'Experience', 'Company', 'Scraping_Date', 'Salary', 'Location', 'Tags_Associated', 'Posting_Date'])"
      ]
    },
    {
      "cell_type": "code",
      "execution_count": null,
      "metadata": {
        "id": "D0ZsslmK_WDp",
        "outputId": "4114b03e-575f-4bee-f39c-3f849740a068"
      },
      "outputs": [
        {
          "data": {
            "text/html": [
              "<div>\n",
              "<style scoped>\n",
              "    .dataframe tbody tr th:only-of-type {\n",
              "        vertical-align: middle;\n",
              "    }\n",
              "\n",
              "    .dataframe tbody tr th {\n",
              "        vertical-align: top;\n",
              "    }\n",
              "\n",
              "    .dataframe thead th {\n",
              "        text-align: right;\n",
              "    }\n",
              "</style>\n",
              "<table border=\"1\" class=\"dataframe\">\n",
              "  <thead>\n",
              "    <tr style=\"text-align: right;\">\n",
              "      <th></th>\n",
              "      <th>Job_title</th>\n",
              "      <th>Experience</th>\n",
              "      <th>Company</th>\n",
              "      <th>Scraping_Date</th>\n",
              "      <th>Salary</th>\n",
              "      <th>Location</th>\n",
              "      <th>Tags_Associated</th>\n",
              "      <th>Posting_Date</th>\n",
              "    </tr>\n",
              "  </thead>\n",
              "  <tbody>\n",
              "  </tbody>\n",
              "</table>\n",
              "</div>"
            ],
            "text/plain": [
              "Empty DataFrame\n",
              "Columns: [Job_title, Experience, Company, Scraping_Date, Salary, Location, Tags_Associated, Posting_Date]\n",
              "Index: []"
            ]
          },
          "execution_count": 22,
          "metadata": {},
          "output_type": "execute_result"
        }
      ],
      "source": [
        "df"
      ]
    },
    {
      "cell_type": "markdown",
      "metadata": {
        "id": "SpB-ThmZ_WDp"
      },
      "source": [
        "**Create a generic python code to scrape the required data**"
      ]
    },
    {
      "cell_type": "code",
      "execution_count": null,
      "metadata": {
        "id": "hFwzbkJb_WDp",
        "outputId": "f2883f87-e844-41f1-b88d-1a768c6cbd1f"
      },
      "outputs": [
        {
          "name": "stdout",
          "output_type": "stream",
          "text": [
            "Senior Executive - Financial Accounting\n",
            "0-2 Yrs\n",
            "Bayer\n",
            "29/06/2023\n",
            "Not disclosed\n",
            "Thane\n",
            "Reporting\n",
            "2 Days Ago\n",
            "Senior Accounts Executive ( US CPA )\n",
            "0-5 Yrs\n",
            "Highrise Solutions\n",
            "29/06/2023\n",
            "Not disclosed\n",
            "Pune\n",
            "Information technology\n",
            "1 Day Ago\n",
            "Accounts Executive\n",
            "0-2 Yrs\n",
            "Shree Guru Gobind Singh Tricentenary University (SGTU)\n",
            "29/06/2023\n",
            "2.25-2.75 Lacs PA\n",
            "Gurgaon/Gurugram\n",
            "Tally ERP\n",
            "Just Now\n",
            "Accounts & Finance Executive\n",
            "0-3 Yrs\n",
            "Shahi\n",
            "29/06/2023\n",
            "Not disclosed\n",
            "Faridabad, Haryana\n",
            "Finance And Accounts\n",
            "1 Day Ago\n",
            "Finance Associate - Accounts Receivable\n",
            "0-3 Yrs\n",
            "Marriott\n",
            "29/06/2023\n",
            "Not disclosed\n",
            "Kochi/Cochin\n",
            "Billing\n",
            "1 Day Ago\n",
            "Account Executive\n",
            "0-3 Yrs\n",
            "Shri Ramswaroop Digital Technologies Pvt Ltd\n",
            "29/06/2023\n",
            "Not disclosed\n",
            "Lucknow\n",
            "Tally ERP\n",
            "2 Days Ago\n",
            "Jr. Accounts Executive\n",
            "0-2 Yrs\n",
            "The Ruby Mills Ltd\n",
            "29/06/2023\n",
            "Not disclosed\n",
            "Mumbai\n",
            "Accounting\n",
            "Just Now\n",
            "Account Executive\n",
            "Sales Account Executive\n",
            "0-3 Yrs\n",
            "Crest\n",
            "29/06/2023\n",
            "Not disclosed\n",
            "Bangalore/Bengaluru\n",
            "Sales\n",
            "1 Day Ago\n",
            "Accounts Executive\n",
            "0-2 Yrs\n",
            "Waves Strategy Advisors\n",
            "29/06/2023\n",
            "1.75-2.75 Lacs PA\n",
            "Mumbai Suburban, Maharashtra\n",
            "excel\n",
            "1 Day Ago\n",
            "Accounts Executive\n",
            "0-3 Yrs\n",
            "OVT India Pvt Ltd.\n",
            "29/06/2023\n",
            "Not disclosed\n",
            "Bhopal, Madhya Pradesh\n",
            "Tally\n",
            "2 Days Ago\n",
            "Account Executive\n",
            "0-1 Yrs\n",
            "Career Launcher Nagpur\n",
            "29/06/2023\n",
            "1-1.5 Lacs PA\n",
            "Nagpur, Maharashtra\n",
            "Tally ERP\n",
            "2 Days Ago\n",
            "US Accounts Executive -Vijayawada - Onsite only\n",
            "0-1 Yrs\n",
            "Advansoft International\n",
            "29/06/2023\n",
            "2-2.5 Lacs PA\n",
            "Vijayawada, Andhra Pradesh\n",
            "Communication Skills\n",
            "Today\n",
            "Finance & Accounts - Billing Executive (Night shift - Onsite Vadodara)\n",
            "0-3 Yrs\n",
            "Ascendion Engineering\n",
            "29/06/2023\n",
            "2.25-2.5 Lacs PA\n",
            "Vadodara/ Baroda, Gujarat\n",
            "finance and accounts\n",
            "1 Day Ago\n",
            "Junior or Senior Accounts  Executive\n",
            "0-5 Yrs\n",
            "Synmac Consultants\n",
            "29/06/2023\n",
            "1-5 Lacs PA\n",
            "Chennai, Bangalore/Bengaluru, Delhi / NCR\n",
            "Statutory Audit\n",
            "3 Days Ago\n",
            "General Accounting Ops New Associate-Procure To Pay Processing\n",
            "0-1 Yrs\n",
            "Accenture\n",
            "29/06/2023\n",
            "Not disclosed\n",
            "Bangalore/Bengaluru\n",
            "General Accounting Ops\n",
            "Few Hours Ago\n",
            "Accounts Receivable Executive\n",
            "0-5 Yrs\n",
            "Ascendion Engineering\n",
            "29/06/2023\n",
            "Not disclosed\n",
            "Vadodara/ Baroda, Gujarat\n",
            "accounting\n",
            "2 Days Ago\n",
            "Accounts Payable Executive\n",
            "0-5 Yrs\n",
            "Ascendion Engineering\n",
            "29/06/2023\n",
            "50,000-2 Lacs PA\n",
            "Vadodara/ Baroda, Gujarat\n",
            "accounting\n",
            "2 Days Ago\n",
            "Senior Executive Finance & Accounts\n",
            "Accounting Officer\n",
            "0-2 Yrs\n",
            "TNS Holdings\n",
            "29/06/2023\n",
            "Not disclosed\n",
            "Pune\n",
            "Medical\n",
            "1 Day Ago\n"
          ]
        },
        {
          "name": "stderr",
          "output_type": "stream",
          "text": [
            "C:\\Users\\micha\\AppData\\Local\\Temp\\ipykernel_27252\\281379313.py:103: FutureWarning: The frame.append method is deprecated and will be removed from pandas in a future version. Use pandas.concat instead.\n",
            "  df=df.append({'Job_Title':Job_Title.text,'Experience':Experience,'Company':Company.text,'Scraping_Date':date_today, 'Salary':Salary,'Location':Location,'Tags_Associated':assoc_tags,'Posting_Date':Posting_Date},ignore_index = True)\n",
            "C:\\Users\\micha\\AppData\\Local\\Temp\\ipykernel_27252\\281379313.py:103: FutureWarning: The frame.append method is deprecated and will be removed from pandas in a future version. Use pandas.concat instead.\n",
            "  df=df.append({'Job_Title':Job_Title.text,'Experience':Experience,'Company':Company.text,'Scraping_Date':date_today, 'Salary':Salary,'Location':Location,'Tags_Associated':assoc_tags,'Posting_Date':Posting_Date},ignore_index = True)\n",
            "C:\\Users\\micha\\AppData\\Local\\Temp\\ipykernel_27252\\281379313.py:103: FutureWarning: The frame.append method is deprecated and will be removed from pandas in a future version. Use pandas.concat instead.\n",
            "  df=df.append({'Job_Title':Job_Title.text,'Experience':Experience,'Company':Company.text,'Scraping_Date':date_today, 'Salary':Salary,'Location':Location,'Tags_Associated':assoc_tags,'Posting_Date':Posting_Date},ignore_index = True)\n",
            "C:\\Users\\micha\\AppData\\Local\\Temp\\ipykernel_27252\\281379313.py:103: FutureWarning: The frame.append method is deprecated and will be removed from pandas in a future version. Use pandas.concat instead.\n",
            "  df=df.append({'Job_Title':Job_Title.text,'Experience':Experience,'Company':Company.text,'Scraping_Date':date_today, 'Salary':Salary,'Location':Location,'Tags_Associated':assoc_tags,'Posting_Date':Posting_Date},ignore_index = True)\n",
            "C:\\Users\\micha\\AppData\\Local\\Temp\\ipykernel_27252\\281379313.py:103: FutureWarning: The frame.append method is deprecated and will be removed from pandas in a future version. Use pandas.concat instead.\n",
            "  df=df.append({'Job_Title':Job_Title.text,'Experience':Experience,'Company':Company.text,'Scraping_Date':date_today, 'Salary':Salary,'Location':Location,'Tags_Associated':assoc_tags,'Posting_Date':Posting_Date},ignore_index = True)\n",
            "C:\\Users\\micha\\AppData\\Local\\Temp\\ipykernel_27252\\281379313.py:103: FutureWarning: The frame.append method is deprecated and will be removed from pandas in a future version. Use pandas.concat instead.\n",
            "  df=df.append({'Job_Title':Job_Title.text,'Experience':Experience,'Company':Company.text,'Scraping_Date':date_today, 'Salary':Salary,'Location':Location,'Tags_Associated':assoc_tags,'Posting_Date':Posting_Date},ignore_index = True)\n",
            "C:\\Users\\micha\\AppData\\Local\\Temp\\ipykernel_27252\\281379313.py:103: FutureWarning: The frame.append method is deprecated and will be removed from pandas in a future version. Use pandas.concat instead.\n",
            "  df=df.append({'Job_Title':Job_Title.text,'Experience':Experience,'Company':Company.text,'Scraping_Date':date_today, 'Salary':Salary,'Location':Location,'Tags_Associated':assoc_tags,'Posting_Date':Posting_Date},ignore_index = True)\n",
            "C:\\Users\\micha\\AppData\\Local\\Temp\\ipykernel_27252\\281379313.py:103: FutureWarning: The frame.append method is deprecated and will be removed from pandas in a future version. Use pandas.concat instead.\n",
            "  df=df.append({'Job_Title':Job_Title.text,'Experience':Experience,'Company':Company.text,'Scraping_Date':date_today, 'Salary':Salary,'Location':Location,'Tags_Associated':assoc_tags,'Posting_Date':Posting_Date},ignore_index = True)\n",
            "C:\\Users\\micha\\AppData\\Local\\Temp\\ipykernel_27252\\281379313.py:103: FutureWarning: The frame.append method is deprecated and will be removed from pandas in a future version. Use pandas.concat instead.\n",
            "  df=df.append({'Job_Title':Job_Title.text,'Experience':Experience,'Company':Company.text,'Scraping_Date':date_today, 'Salary':Salary,'Location':Location,'Tags_Associated':assoc_tags,'Posting_Date':Posting_Date},ignore_index = True)\n",
            "C:\\Users\\micha\\AppData\\Local\\Temp\\ipykernel_27252\\281379313.py:103: FutureWarning: The frame.append method is deprecated and will be removed from pandas in a future version. Use pandas.concat instead.\n",
            "  df=df.append({'Job_Title':Job_Title.text,'Experience':Experience,'Company':Company.text,'Scraping_Date':date_today, 'Salary':Salary,'Location':Location,'Tags_Associated':assoc_tags,'Posting_Date':Posting_Date},ignore_index = True)\n",
            "C:\\Users\\micha\\AppData\\Local\\Temp\\ipykernel_27252\\281379313.py:103: FutureWarning: The frame.append method is deprecated and will be removed from pandas in a future version. Use pandas.concat instead.\n",
            "  df=df.append({'Job_Title':Job_Title.text,'Experience':Experience,'Company':Company.text,'Scraping_Date':date_today, 'Salary':Salary,'Location':Location,'Tags_Associated':assoc_tags,'Posting_Date':Posting_Date},ignore_index = True)\n",
            "C:\\Users\\micha\\AppData\\Local\\Temp\\ipykernel_27252\\281379313.py:103: FutureWarning: The frame.append method is deprecated and will be removed from pandas in a future version. Use pandas.concat instead.\n",
            "  df=df.append({'Job_Title':Job_Title.text,'Experience':Experience,'Company':Company.text,'Scraping_Date':date_today, 'Salary':Salary,'Location':Location,'Tags_Associated':assoc_tags,'Posting_Date':Posting_Date},ignore_index = True)\n",
            "C:\\Users\\micha\\AppData\\Local\\Temp\\ipykernel_27252\\281379313.py:103: FutureWarning: The frame.append method is deprecated and will be removed from pandas in a future version. Use pandas.concat instead.\n",
            "  df=df.append({'Job_Title':Job_Title.text,'Experience':Experience,'Company':Company.text,'Scraping_Date':date_today, 'Salary':Salary,'Location':Location,'Tags_Associated':assoc_tags,'Posting_Date':Posting_Date},ignore_index = True)\n",
            "C:\\Users\\micha\\AppData\\Local\\Temp\\ipykernel_27252\\281379313.py:103: FutureWarning: The frame.append method is deprecated and will be removed from pandas in a future version. Use pandas.concat instead.\n",
            "  df=df.append({'Job_Title':Job_Title.text,'Experience':Experience,'Company':Company.text,'Scraping_Date':date_today, 'Salary':Salary,'Location':Location,'Tags_Associated':assoc_tags,'Posting_Date':Posting_Date},ignore_index = True)\n",
            "C:\\Users\\micha\\AppData\\Local\\Temp\\ipykernel_27252\\281379313.py:103: FutureWarning: The frame.append method is deprecated and will be removed from pandas in a future version. Use pandas.concat instead.\n",
            "  df=df.append({'Job_Title':Job_Title.text,'Experience':Experience,'Company':Company.text,'Scraping_Date':date_today, 'Salary':Salary,'Location':Location,'Tags_Associated':assoc_tags,'Posting_Date':Posting_Date},ignore_index = True)\n",
            "C:\\Users\\micha\\AppData\\Local\\Temp\\ipykernel_27252\\281379313.py:103: FutureWarning: The frame.append method is deprecated and will be removed from pandas in a future version. Use pandas.concat instead.\n",
            "  df=df.append({'Job_Title':Job_Title.text,'Experience':Experience,'Company':Company.text,'Scraping_Date':date_today, 'Salary':Salary,'Location':Location,'Tags_Associated':assoc_tags,'Posting_Date':Posting_Date},ignore_index = True)\n",
            "C:\\Users\\micha\\AppData\\Local\\Temp\\ipykernel_27252\\281379313.py:103: FutureWarning: The frame.append method is deprecated and will be removed from pandas in a future version. Use pandas.concat instead.\n",
            "  df=df.append({'Job_Title':Job_Title.text,'Experience':Experience,'Company':Company.text,'Scraping_Date':date_today, 'Salary':Salary,'Location':Location,'Tags_Associated':assoc_tags,'Posting_Date':Posting_Date},ignore_index = True)\n",
            "C:\\Users\\micha\\AppData\\Local\\Temp\\ipykernel_27252\\281379313.py:103: FutureWarning: The frame.append method is deprecated and will be removed from pandas in a future version. Use pandas.concat instead.\n",
            "  df=df.append({'Job_Title':Job_Title.text,'Experience':Experience,'Company':Company.text,'Scraping_Date':date_today, 'Salary':Salary,'Location':Location,'Tags_Associated':assoc_tags,'Posting_Date':Posting_Date},ignore_index = True)\n"
          ]
        }
      ],
      "source": [
        "for page in range(1,2):\n",
        "    for urll in gen_urls[0:1]:\n",
        "        url = urll.format(page)\n",
        "        driver = webdriver.Chrome()\n",
        "        driver.get(url)\n",
        "\n",
        "        time.sleep(5)\n",
        "\n",
        "        soup = BeautifulSoup(driver.page_source,'html.parser')\n",
        "\n",
        "        driver.close()\n",
        "\n",
        "\n",
        "\n",
        "\n",
        "#         print(soup.prettify())\n",
        "        results = soup.find(class_='list')\n",
        "        job_elems = results.find_all('article',class_='jobTuple')\n",
        "\n",
        "\n",
        "        for job_elem in job_elems:\n",
        "\n",
        "            #job title\n",
        "            Job_Title = job_elem.find('a',class_='title ellipsis')\n",
        "            print(Job_Title.text)\n",
        "\n",
        "#                     #function area\n",
        "#             func_results = soup.find('p',class_='jdRightItemValue')\n",
        "#             if func_results is None:\n",
        "#                 func_results = 'Not Available'\n",
        "#                 continue\n",
        "#             else:\n",
        "#                 func_area = func_results.text\n",
        "#                 print(func_area)\n",
        "\n",
        "\n",
        "\n",
        "            # Experience\n",
        "            #Exp = job_elem.find('li',class_='fleft br2 placeHolderLi experience')\n",
        "            Exp_span = job_elem.find('span',class_='ellipsis fleft expwdth')\n",
        "            if Exp_span is None:\n",
        "                continue\n",
        "            else:\n",
        "                Experience = Exp_span.text\n",
        "                print(Experience)\n",
        "\n",
        "\n",
        "\n",
        "            # Company\n",
        "            Company = job_elem.find('a',class_='subTitle ellipsis fleft')\n",
        "            print(Company.text)\n",
        "\n",
        "\n",
        "            # Date Scraped\n",
        "            from datetime import date\n",
        "            today = date.today()\n",
        "                    # dd/mm/YY\n",
        "            date_today = today.strftime(\"%d/%m/%Y\")\n",
        "            print(date_today)\n",
        "\n",
        "\n",
        "            # Salary\n",
        "            Sal = job_elem.find('li',class_='fleft br2 placeHolderLi salary')\n",
        "            Sal_span = Sal.find('span',class_='ellipsis fleft')\n",
        "            if Sal_span is None:\n",
        "                continue\n",
        "            else:\n",
        "                Salary = Sal_span.text\n",
        "                print(Salary)\n",
        "\n",
        "\n",
        "            # Location for the job post\n",
        "            #Loc = job_elem.find('li',class_='fleft placeHolder-icons naukicon-srp-location')\n",
        "            Loc_exp = job_elem.find('span',class_='ellipsis fleft locWdth')\n",
        "            if Loc_exp is None:\n",
        "                continue\n",
        "            else:\n",
        "                Location = Loc_exp.text\n",
        "                print(Location)\n",
        "\n",
        "\n",
        "\n",
        "            #tags\n",
        "\n",
        "            tags = job_elem.find('li',class_='fleft dot')\n",
        "\n",
        "            if tags is None:\n",
        "                continue\n",
        "            else:\n",
        "                assoc_tags = tags.text\n",
        "                print(assoc_tags)\n",
        "\n",
        "\n",
        "            # Date job Posted\n",
        "            #date = job_elem.find(\"div\",[\"fleft\"])\n",
        "            date_posted = job_elem.find('span',class_='fleft postedDate')\n",
        "            if date_posted is None:\n",
        "                continue\n",
        "            else:\n",
        "                Posting_Date = date_posted.text\n",
        "                print(Posting_Date)\n",
        "\n",
        "                df=df.append({'Job_Title':Job_Title.text,'Experience':Experience,'Company':Company.text,'Scraping_Date':date_today, 'Salary':Salary,'Location':Location,'Tags_Associated':assoc_tags,'Posting_Date':Posting_Date},ignore_index = True)"
      ]
    },
    {
      "cell_type": "code",
      "execution_count": null,
      "metadata": {
        "id": "AWU4XywM_WDp",
        "outputId": "ba414364-63b9-4ffe-e29e-b6a298358627"
      },
      "outputs": [
        {
          "data": {
            "text/html": [
              "<div>\n",
              "<style scoped>\n",
              "    .dataframe tbody tr th:only-of-type {\n",
              "        vertical-align: middle;\n",
              "    }\n",
              "\n",
              "    .dataframe tbody tr th {\n",
              "        vertical-align: top;\n",
              "    }\n",
              "\n",
              "    .dataframe thead th {\n",
              "        text-align: right;\n",
              "    }\n",
              "</style>\n",
              "<table border=\"1\" class=\"dataframe\">\n",
              "  <thead>\n",
              "    <tr style=\"text-align: right;\">\n",
              "      <th></th>\n",
              "      <th>Job_title</th>\n",
              "      <th>Experience</th>\n",
              "      <th>Company</th>\n",
              "      <th>Scraping_Date</th>\n",
              "      <th>Salary</th>\n",
              "      <th>Location</th>\n",
              "      <th>Tags_Associated</th>\n",
              "      <th>Posting_Date</th>\n",
              "      <th>Job_Title</th>\n",
              "    </tr>\n",
              "  </thead>\n",
              "  <tbody>\n",
              "    <tr>\n",
              "      <th>0</th>\n",
              "      <td>NaN</td>\n",
              "      <td>0-2 Yrs</td>\n",
              "      <td>TNS Holdings</td>\n",
              "      <td>29/06/2023</td>\n",
              "      <td>Not disclosed</td>\n",
              "      <td>Pune</td>\n",
              "      <td>Medical</td>\n",
              "      <td>1 Day Ago</td>\n",
              "      <td>Accounting Officer</td>\n",
              "    </tr>\n",
              "    <tr>\n",
              "      <th>1</th>\n",
              "      <td>NaN</td>\n",
              "      <td>0-2 Yrs</td>\n",
              "      <td>Bayer</td>\n",
              "      <td>29/06/2023</td>\n",
              "      <td>Not disclosed</td>\n",
              "      <td>Thane</td>\n",
              "      <td>Reporting</td>\n",
              "      <td>2 Days Ago</td>\n",
              "      <td>Senior Executive - Financial Accounting</td>\n",
              "    </tr>\n",
              "    <tr>\n",
              "      <th>2</th>\n",
              "      <td>NaN</td>\n",
              "      <td>0-5 Yrs</td>\n",
              "      <td>Highrise Solutions</td>\n",
              "      <td>29/06/2023</td>\n",
              "      <td>Not disclosed</td>\n",
              "      <td>Pune</td>\n",
              "      <td>Information technology</td>\n",
              "      <td>1 Day Ago</td>\n",
              "      <td>Senior Accounts Executive ( US CPA )</td>\n",
              "    </tr>\n",
              "    <tr>\n",
              "      <th>3</th>\n",
              "      <td>NaN</td>\n",
              "      <td>0-2 Yrs</td>\n",
              "      <td>Shree Guru Gobind Singh Tricentenary Universit...</td>\n",
              "      <td>29/06/2023</td>\n",
              "      <td>2.25-2.75 Lacs PA</td>\n",
              "      <td>Gurgaon/Gurugram</td>\n",
              "      <td>Tally ERP</td>\n",
              "      <td>Just Now</td>\n",
              "      <td>Accounts Executive</td>\n",
              "    </tr>\n",
              "    <tr>\n",
              "      <th>4</th>\n",
              "      <td>NaN</td>\n",
              "      <td>0-3 Yrs</td>\n",
              "      <td>Shahi</td>\n",
              "      <td>29/06/2023</td>\n",
              "      <td>Not disclosed</td>\n",
              "      <td>Faridabad, Haryana</td>\n",
              "      <td>Finance And Accounts</td>\n",
              "      <td>1 Day Ago</td>\n",
              "      <td>Accounts &amp; Finance Executive</td>\n",
              "    </tr>\n",
              "    <tr>\n",
              "      <th>5</th>\n",
              "      <td>NaN</td>\n",
              "      <td>0-3 Yrs</td>\n",
              "      <td>Marriott</td>\n",
              "      <td>29/06/2023</td>\n",
              "      <td>Not disclosed</td>\n",
              "      <td>Kochi/Cochin</td>\n",
              "      <td>Billing</td>\n",
              "      <td>1 Day Ago</td>\n",
              "      <td>Finance Associate - Accounts Receivable</td>\n",
              "    </tr>\n",
              "    <tr>\n",
              "      <th>6</th>\n",
              "      <td>NaN</td>\n",
              "      <td>0-3 Yrs</td>\n",
              "      <td>Shri Ramswaroop Digital Technologies Pvt Ltd</td>\n",
              "      <td>29/06/2023</td>\n",
              "      <td>Not disclosed</td>\n",
              "      <td>Lucknow</td>\n",
              "      <td>Tally ERP</td>\n",
              "      <td>2 Days Ago</td>\n",
              "      <td>Account Executive</td>\n",
              "    </tr>\n",
              "    <tr>\n",
              "      <th>7</th>\n",
              "      <td>NaN</td>\n",
              "      <td>0-2 Yrs</td>\n",
              "      <td>The Ruby Mills Ltd</td>\n",
              "      <td>29/06/2023</td>\n",
              "      <td>Not disclosed</td>\n",
              "      <td>Mumbai</td>\n",
              "      <td>Accounting</td>\n",
              "      <td>Just Now</td>\n",
              "      <td>Jr. Accounts Executive</td>\n",
              "    </tr>\n",
              "    <tr>\n",
              "      <th>8</th>\n",
              "      <td>NaN</td>\n",
              "      <td>0-3 Yrs</td>\n",
              "      <td>Crest</td>\n",
              "      <td>29/06/2023</td>\n",
              "      <td>Not disclosed</td>\n",
              "      <td>Bangalore/Bengaluru</td>\n",
              "      <td>Sales</td>\n",
              "      <td>1 Day Ago</td>\n",
              "      <td>Sales Account Executive</td>\n",
              "    </tr>\n",
              "    <tr>\n",
              "      <th>9</th>\n",
              "      <td>NaN</td>\n",
              "      <td>0-2 Yrs</td>\n",
              "      <td>Waves Strategy Advisors</td>\n",
              "      <td>29/06/2023</td>\n",
              "      <td>1.75-2.75 Lacs PA</td>\n",
              "      <td>Mumbai Suburban, Maharashtra</td>\n",
              "      <td>excel</td>\n",
              "      <td>1 Day Ago</td>\n",
              "      <td>Accounts Executive</td>\n",
              "    </tr>\n",
              "    <tr>\n",
              "      <th>10</th>\n",
              "      <td>NaN</td>\n",
              "      <td>0-3 Yrs</td>\n",
              "      <td>OVT India Pvt Ltd.</td>\n",
              "      <td>29/06/2023</td>\n",
              "      <td>Not disclosed</td>\n",
              "      <td>Bhopal, Madhya Pradesh</td>\n",
              "      <td>Tally</td>\n",
              "      <td>2 Days Ago</td>\n",
              "      <td>Accounts Executive</td>\n",
              "    </tr>\n",
              "    <tr>\n",
              "      <th>11</th>\n",
              "      <td>NaN</td>\n",
              "      <td>0-1 Yrs</td>\n",
              "      <td>Career Launcher Nagpur</td>\n",
              "      <td>29/06/2023</td>\n",
              "      <td>1-1.5 Lacs PA</td>\n",
              "      <td>Nagpur, Maharashtra</td>\n",
              "      <td>Tally ERP</td>\n",
              "      <td>2 Days Ago</td>\n",
              "      <td>Account Executive</td>\n",
              "    </tr>\n",
              "    <tr>\n",
              "      <th>12</th>\n",
              "      <td>NaN</td>\n",
              "      <td>0-1 Yrs</td>\n",
              "      <td>Advansoft International</td>\n",
              "      <td>29/06/2023</td>\n",
              "      <td>2-2.5 Lacs PA</td>\n",
              "      <td>Vijayawada, Andhra Pradesh</td>\n",
              "      <td>Communication Skills</td>\n",
              "      <td>Today</td>\n",
              "      <td>US Accounts Executive -Vijayawada - Onsite only</td>\n",
              "    </tr>\n",
              "    <tr>\n",
              "      <th>13</th>\n",
              "      <td>NaN</td>\n",
              "      <td>0-3 Yrs</td>\n",
              "      <td>Ascendion Engineering</td>\n",
              "      <td>29/06/2023</td>\n",
              "      <td>2.25-2.5 Lacs PA</td>\n",
              "      <td>Vadodara/ Baroda, Gujarat</td>\n",
              "      <td>finance and accounts</td>\n",
              "      <td>1 Day Ago</td>\n",
              "      <td>Finance &amp; Accounts - Billing Executive (Night ...</td>\n",
              "    </tr>\n",
              "    <tr>\n",
              "      <th>14</th>\n",
              "      <td>NaN</td>\n",
              "      <td>0-5 Yrs</td>\n",
              "      <td>Synmac Consultants</td>\n",
              "      <td>29/06/2023</td>\n",
              "      <td>1-5 Lacs PA</td>\n",
              "      <td>Chennai, Bangalore/Bengaluru, Delhi / NCR</td>\n",
              "      <td>Statutory Audit</td>\n",
              "      <td>3 Days Ago</td>\n",
              "      <td>Junior or Senior Accounts  Executive</td>\n",
              "    </tr>\n",
              "    <tr>\n",
              "      <th>15</th>\n",
              "      <td>NaN</td>\n",
              "      <td>0-1 Yrs</td>\n",
              "      <td>Accenture</td>\n",
              "      <td>29/06/2023</td>\n",
              "      <td>Not disclosed</td>\n",
              "      <td>Bangalore/Bengaluru</td>\n",
              "      <td>General Accounting Ops</td>\n",
              "      <td>Few Hours Ago</td>\n",
              "      <td>General Accounting Ops New Associate-Procure T...</td>\n",
              "    </tr>\n",
              "    <tr>\n",
              "      <th>16</th>\n",
              "      <td>NaN</td>\n",
              "      <td>0-5 Yrs</td>\n",
              "      <td>Ascendion Engineering</td>\n",
              "      <td>29/06/2023</td>\n",
              "      <td>Not disclosed</td>\n",
              "      <td>Vadodara/ Baroda, Gujarat</td>\n",
              "      <td>accounting</td>\n",
              "      <td>2 Days Ago</td>\n",
              "      <td>Accounts Receivable Executive</td>\n",
              "    </tr>\n",
              "    <tr>\n",
              "      <th>17</th>\n",
              "      <td>NaN</td>\n",
              "      <td>0-5 Yrs</td>\n",
              "      <td>Ascendion Engineering</td>\n",
              "      <td>29/06/2023</td>\n",
              "      <td>50,000-2 Lacs PA</td>\n",
              "      <td>Vadodara/ Baroda, Gujarat</td>\n",
              "      <td>accounting</td>\n",
              "      <td>2 Days Ago</td>\n",
              "      <td>Accounts Payable Executive</td>\n",
              "    </tr>\n",
              "    <tr>\n",
              "      <th>18</th>\n",
              "      <td>NaN</td>\n",
              "      <td>0-2 Yrs</td>\n",
              "      <td>TNS Holdings</td>\n",
              "      <td>29/06/2023</td>\n",
              "      <td>Not disclosed</td>\n",
              "      <td>Pune</td>\n",
              "      <td>Medical</td>\n",
              "      <td>1 Day Ago</td>\n",
              "      <td>Accounting Officer</td>\n",
              "    </tr>\n",
              "  </tbody>\n",
              "</table>\n",
              "</div>"
            ],
            "text/plain": [
              "   Job_title Experience                                            Company  \\\n",
              "0        NaN    0-2 Yrs                                       TNS Holdings   \n",
              "1        NaN    0-2 Yrs                                              Bayer   \n",
              "2        NaN    0-5 Yrs                                 Highrise Solutions   \n",
              "3        NaN    0-2 Yrs  Shree Guru Gobind Singh Tricentenary Universit...   \n",
              "4        NaN    0-3 Yrs                                              Shahi   \n",
              "5        NaN    0-3 Yrs                                           Marriott   \n",
              "6        NaN    0-3 Yrs       Shri Ramswaroop Digital Technologies Pvt Ltd   \n",
              "7        NaN    0-2 Yrs                                 The Ruby Mills Ltd   \n",
              "8        NaN    0-3 Yrs                                              Crest   \n",
              "9        NaN    0-2 Yrs                            Waves Strategy Advisors   \n",
              "10       NaN    0-3 Yrs                                 OVT India Pvt Ltd.   \n",
              "11       NaN    0-1 Yrs                             Career Launcher Nagpur   \n",
              "12       NaN    0-1 Yrs                            Advansoft International   \n",
              "13       NaN    0-3 Yrs                              Ascendion Engineering   \n",
              "14       NaN    0-5 Yrs                                 Synmac Consultants   \n",
              "15       NaN    0-1 Yrs                                          Accenture   \n",
              "16       NaN    0-5 Yrs                              Ascendion Engineering   \n",
              "17       NaN    0-5 Yrs                              Ascendion Engineering   \n",
              "18       NaN    0-2 Yrs                                       TNS Holdings   \n",
              "\n",
              "   Scraping_Date             Salary  \\\n",
              "0     29/06/2023      Not disclosed   \n",
              "1     29/06/2023      Not disclosed   \n",
              "2     29/06/2023      Not disclosed   \n",
              "3     29/06/2023  2.25-2.75 Lacs PA   \n",
              "4     29/06/2023      Not disclosed   \n",
              "5     29/06/2023      Not disclosed   \n",
              "6     29/06/2023      Not disclosed   \n",
              "7     29/06/2023      Not disclosed   \n",
              "8     29/06/2023      Not disclosed   \n",
              "9     29/06/2023  1.75-2.75 Lacs PA   \n",
              "10    29/06/2023      Not disclosed   \n",
              "11    29/06/2023      1-1.5 Lacs PA   \n",
              "12    29/06/2023      2-2.5 Lacs PA   \n",
              "13    29/06/2023   2.25-2.5 Lacs PA   \n",
              "14    29/06/2023        1-5 Lacs PA   \n",
              "15    29/06/2023      Not disclosed   \n",
              "16    29/06/2023      Not disclosed   \n",
              "17    29/06/2023   50,000-2 Lacs PA   \n",
              "18    29/06/2023      Not disclosed   \n",
              "\n",
              "                                     Location         Tags_Associated  \\\n",
              "0                                        Pune                 Medical   \n",
              "1                                       Thane               Reporting   \n",
              "2                                        Pune  Information technology   \n",
              "3                            Gurgaon/Gurugram               Tally ERP   \n",
              "4                          Faridabad, Haryana    Finance And Accounts   \n",
              "5                                Kochi/Cochin                 Billing   \n",
              "6                                     Lucknow               Tally ERP   \n",
              "7                                      Mumbai              Accounting   \n",
              "8                         Bangalore/Bengaluru                   Sales   \n",
              "9                Mumbai Suburban, Maharashtra                   excel   \n",
              "10                     Bhopal, Madhya Pradesh                   Tally   \n",
              "11                        Nagpur, Maharashtra               Tally ERP   \n",
              "12                 Vijayawada, Andhra Pradesh    Communication Skills   \n",
              "13                  Vadodara/ Baroda, Gujarat    finance and accounts   \n",
              "14  Chennai, Bangalore/Bengaluru, Delhi / NCR         Statutory Audit   \n",
              "15                        Bangalore/Bengaluru  General Accounting Ops   \n",
              "16                  Vadodara/ Baroda, Gujarat              accounting   \n",
              "17                  Vadodara/ Baroda, Gujarat              accounting   \n",
              "18                                       Pune                 Medical   \n",
              "\n",
              "     Posting_Date                                          Job_Title  \n",
              "0       1 Day Ago                                 Accounting Officer  \n",
              "1      2 Days Ago            Senior Executive - Financial Accounting  \n",
              "2       1 Day Ago               Senior Accounts Executive ( US CPA )  \n",
              "3        Just Now                                 Accounts Executive  \n",
              "4       1 Day Ago                       Accounts & Finance Executive  \n",
              "5       1 Day Ago            Finance Associate - Accounts Receivable  \n",
              "6      2 Days Ago                                  Account Executive  \n",
              "7        Just Now                             Jr. Accounts Executive  \n",
              "8       1 Day Ago                            Sales Account Executive  \n",
              "9       1 Day Ago                                 Accounts Executive  \n",
              "10     2 Days Ago                                 Accounts Executive  \n",
              "11     2 Days Ago                                  Account Executive  \n",
              "12          Today    US Accounts Executive -Vijayawada - Onsite only  \n",
              "13      1 Day Ago  Finance & Accounts - Billing Executive (Night ...  \n",
              "14     3 Days Ago               Junior or Senior Accounts  Executive  \n",
              "15  Few Hours Ago  General Accounting Ops New Associate-Procure T...  \n",
              "16     2 Days Ago                      Accounts Receivable Executive  \n",
              "17     2 Days Ago                         Accounts Payable Executive  \n",
              "18      1 Day Ago                                 Accounting Officer  "
            ]
          },
          "execution_count": 37,
          "metadata": {},
          "output_type": "execute_result"
        }
      ],
      "source": [
        "df"
      ]
    },
    {
      "cell_type": "code",
      "execution_count": null,
      "metadata": {
        "id": "K7rJa_8A_WDt"
      },
      "outputs": [],
      "source": []
    }
  ],
  "metadata": {
    "colab": {
      "provenance": [],
      "include_colab_link": true
    },
    "kernelspec": {
      "display_name": "Python 3 (ipykernel)",
      "language": "python",
      "name": "python3"
    },
    "language_info": {
      "codemirror_mode": {
        "name": "ipython",
        "version": 3
      },
      "file_extension": ".py",
      "mimetype": "text/x-python",
      "name": "python",
      "nbconvert_exporter": "python",
      "pygments_lexer": "ipython3",
      "version": "3.10.9"
    }
  },
  "nbformat": 4,
  "nbformat_minor": 0
}