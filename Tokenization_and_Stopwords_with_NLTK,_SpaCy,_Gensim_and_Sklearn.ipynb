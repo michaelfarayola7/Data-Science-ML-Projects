{
  "nbformat": 4,
  "nbformat_minor": 0,
  "metadata": {
    "colab": {
      "provenance": [],
      "authorship_tag": "ABX9TyMUwgGoULplMWj+cqlJkjGn",
      "include_colab_link": true
    },
    "kernelspec": {
      "name": "python3",
      "display_name": "Python 3"
    },
    "language_info": {
      "name": "python"
    }
  },
  "cells": [
    {
      "cell_type": "markdown",
      "metadata": {
        "id": "view-in-github",
        "colab_type": "text"
      },
      "source": [
        "<a href=\"https://colab.research.google.com/github/michaelfarayola7/Data-Science-ML-Projects/blob/main/Tokenization_and_Stopwords_with_NLTK%2C_SpaCy%2C_Gensim_and_Sklearn.ipynb\" target=\"_parent\"><img src=\"https://colab.research.google.com/assets/colab-badge.svg\" alt=\"Open In Colab\"/></a>"
      ]
    },
    {
      "cell_type": "markdown",
      "source": [
        "### **NLP BASICS**"
      ],
      "metadata": {
        "id": "i9ZTs3Pp8R5y"
      }
    },
    {
      "cell_type": "markdown",
      "source": [
        "# Tokenization"
      ],
      "metadata": {
        "id": "CyRpphN18bba"
      }
    },
    {
      "cell_type": "markdown",
      "source": [
        "**Document.**\n",
        "\n",
        "Using a text narrated by Steve Jobs in the “Think Different” Apple commercial."
      ],
      "metadata": {
        "id": "hhxcOXw-8oC7"
      }
    },
    {
      "cell_type": "code",
      "execution_count": 1,
      "metadata": {
        "id": "OvZKJNx85ntn"
      },
      "outputs": [],
      "source": [
        "text = \"\"\"Here’s to the crazy ones, the misfits, the rebels, the troublemakers,\n",
        "the round pegs in the square holes. The ones who see things differently — they’re not fond of\n",
        "rules. You can quote them, disagree with them, glorify\n",
        "or vilify them, but the only thing you can’t do is ignore them because they\n",
        "change things. They push the human race forward, and while some may see them\n",
        "as the crazy ones, we see genius, because the ones who are crazy enough to think\n",
        "that they can change the world, are the ones who do.\"\"\""
      ]
    },
    {
      "cell_type": "markdown",
      "source": [
        "###1. Simple tokenization with .split"
      ],
      "metadata": {
        "id": "awNF5-_L8_TC"
      }
    },
    {
      "cell_type": "code",
      "source": [
        "# Word tokenization\n",
        "text.split()"
      ],
      "metadata": {
        "colab": {
          "base_uri": "https://localhost:8080/"
        },
        "id": "jqRkqCoB8RhJ",
        "outputId": "0ccda740-701d-4e77-d736-7d501d0ba5bd"
      },
      "execution_count": 2,
      "outputs": [
        {
          "output_type": "execute_result",
          "data": {
            "text/plain": [
              "['Here’s',\n",
              " 'to',\n",
              " 'the',\n",
              " 'crazy',\n",
              " 'ones,',\n",
              " 'the',\n",
              " 'misfits,',\n",
              " 'the',\n",
              " 'rebels,',\n",
              " 'the',\n",
              " 'troublemakers,',\n",
              " 'the',\n",
              " 'round',\n",
              " 'pegs',\n",
              " 'in',\n",
              " 'the',\n",
              " 'square',\n",
              " 'holes.',\n",
              " 'The',\n",
              " 'ones',\n",
              " 'who',\n",
              " 'see',\n",
              " 'things',\n",
              " 'differently',\n",
              " '—',\n",
              " 'they’re',\n",
              " 'not',\n",
              " 'fond',\n",
              " 'of',\n",
              " 'rules.',\n",
              " 'You',\n",
              " 'can',\n",
              " 'quote',\n",
              " 'them,',\n",
              " 'disagree',\n",
              " 'with',\n",
              " 'them,',\n",
              " 'glorify',\n",
              " 'or',\n",
              " 'vilify',\n",
              " 'them,',\n",
              " 'but',\n",
              " 'the',\n",
              " 'only',\n",
              " 'thing',\n",
              " 'you',\n",
              " 'can’t',\n",
              " 'do',\n",
              " 'is',\n",
              " 'ignore',\n",
              " 'them',\n",
              " 'because',\n",
              " 'they',\n",
              " 'change',\n",
              " 'things.',\n",
              " 'They',\n",
              " 'push',\n",
              " 'the',\n",
              " 'human',\n",
              " 'race',\n",
              " 'forward,',\n",
              " 'and',\n",
              " 'while',\n",
              " 'some',\n",
              " 'may',\n",
              " 'see',\n",
              " 'them',\n",
              " 'as',\n",
              " 'the',\n",
              " 'crazy',\n",
              " 'ones,',\n",
              " 'we',\n",
              " 'see',\n",
              " 'genius,',\n",
              " 'because',\n",
              " 'the',\n",
              " 'ones',\n",
              " 'who',\n",
              " 'are',\n",
              " 'crazy',\n",
              " 'enough',\n",
              " 'to',\n",
              " 'think',\n",
              " 'that',\n",
              " 'they',\n",
              " 'can',\n",
              " 'change',\n",
              " 'the',\n",
              " 'world,',\n",
              " 'are',\n",
              " 'the',\n",
              " 'ones',\n",
              " 'who',\n",
              " 'do.']"
            ]
          },
          "metadata": {},
          "execution_count": 2
        }
      ]
    },
    {
      "cell_type": "code",
      "source": [
        "# Sentence tokenization\n",
        "text.split('.')"
      ],
      "metadata": {
        "colab": {
          "base_uri": "https://localhost:8080/"
        },
        "id": "ACF5uhDG8WZY",
        "outputId": "af52a919-0bb8-40fd-9a43-078caf2d379a"
      },
      "execution_count": 3,
      "outputs": [
        {
          "output_type": "execute_result",
          "data": {
            "text/plain": [
              "['Here’s to the crazy ones, the misfits, the rebels, the troublemakers, \\nthe round pegs in the square holes',\n",
              " ' The ones who see things differently — they’re not fond of \\nrules',\n",
              " ' You can quote them, disagree with them, glorify\\nor vilify them, but the only thing you can’t do is ignore them because they\\nchange things',\n",
              " ' They push the human race forward, and while some may see them\\nas the crazy ones, we see genius, because the ones who are crazy enough to think\\nthat they can change the world, are the ones who do',\n",
              " '']"
            ]
          },
          "metadata": {},
          "execution_count": 3
        }
      ]
    },
    {
      "cell_type": "markdown",
      "source": [
        "## 2. Tokenization with **NLTK**"
      ],
      "metadata": {
        "id": "PZu6_wyR-UGr"
      }
    },
    {
      "cell_type": "markdown",
      "source": [
        "NLTK stands for Natural Language Toolkit. This is a suite of libraries and programs for statistical natural language processing for English written in Python.\n",
        "\n",
        "NLTK contains a module called ***tokenize*** with a ***word_tokenize()*** method that will help us split a text into tokens. Once you installed NLTK, you can write the following code to tokenize text."
      ],
      "metadata": {
        "id": "SuWUd4rF-QTB"
      }
    },
    {
      "cell_type": "code",
      "source": [
        "#Installing nltk\n",
        "!pip install nltk"
      ],
      "metadata": {
        "colab": {
          "base_uri": "https://localhost:8080/"
        },
        "id": "0YI_5hbC9UIj",
        "outputId": "8406324b-bc88-41e3-f524-dacd6841c1a4"
      },
      "execution_count": 4,
      "outputs": [
        {
          "output_type": "stream",
          "name": "stdout",
          "text": [
            "Requirement already satisfied: nltk in /usr/local/lib/python3.10/dist-packages (3.8.1)\n",
            "Requirement already satisfied: click in /usr/local/lib/python3.10/dist-packages (from nltk) (8.1.7)\n",
            "Requirement already satisfied: joblib in /usr/local/lib/python3.10/dist-packages (from nltk) (1.3.2)\n",
            "Requirement already satisfied: regex>=2021.8.3 in /usr/local/lib/python3.10/dist-packages (from nltk) (2023.12.25)\n",
            "Requirement already satisfied: tqdm in /usr/local/lib/python3.10/dist-packages (from nltk) (4.66.2)\n"
          ]
        }
      ]
    },
    {
      "cell_type": "code",
      "source": [
        "import nltk\n",
        "nltk.download('punkt')\n",
        "from nltk.tokenize import word_tokenize\n",
        "from nltk.tokenize import sent_tokenize"
      ],
      "metadata": {
        "colab": {
          "base_uri": "https://localhost:8080/"
        },
        "id": "WJEEdAB1-sHk",
        "outputId": "599147a6-0af6-4336-c53f-ab59314c4ab0"
      },
      "execution_count": 5,
      "outputs": [
        {
          "output_type": "stream",
          "name": "stderr",
          "text": [
            "[nltk_data] Downloading package punkt to /root/nltk_data...\n",
            "[nltk_data]   Package punkt is already up-to-date!\n"
          ]
        }
      ]
    },
    {
      "cell_type": "code",
      "source": [
        "#word tokenizer: This helps to tokenize the text into words using the word_tokenize in nltk library.\n",
        "word_tokenize(text)"
      ],
      "metadata": {
        "colab": {
          "base_uri": "https://localhost:8080/"
        },
        "id": "VRPJew4K-_Hy",
        "outputId": "37ccd7e1-bf6f-4256-d069-4e4744868a04"
      },
      "execution_count": 6,
      "outputs": [
        {
          "output_type": "execute_result",
          "data": {
            "text/plain": [
              "['Here',\n",
              " '’',\n",
              " 's',\n",
              " 'to',\n",
              " 'the',\n",
              " 'crazy',\n",
              " 'ones',\n",
              " ',',\n",
              " 'the',\n",
              " 'misfits',\n",
              " ',',\n",
              " 'the',\n",
              " 'rebels',\n",
              " ',',\n",
              " 'the',\n",
              " 'troublemakers',\n",
              " ',',\n",
              " 'the',\n",
              " 'round',\n",
              " 'pegs',\n",
              " 'in',\n",
              " 'the',\n",
              " 'square',\n",
              " 'holes',\n",
              " '.',\n",
              " 'The',\n",
              " 'ones',\n",
              " 'who',\n",
              " 'see',\n",
              " 'things',\n",
              " 'differently',\n",
              " '—',\n",
              " 'they',\n",
              " '’',\n",
              " 're',\n",
              " 'not',\n",
              " 'fond',\n",
              " 'of',\n",
              " 'rules',\n",
              " '.',\n",
              " 'You',\n",
              " 'can',\n",
              " 'quote',\n",
              " 'them',\n",
              " ',',\n",
              " 'disagree',\n",
              " 'with',\n",
              " 'them',\n",
              " ',',\n",
              " 'glorify',\n",
              " 'or',\n",
              " 'vilify',\n",
              " 'them',\n",
              " ',',\n",
              " 'but',\n",
              " 'the',\n",
              " 'only',\n",
              " 'thing',\n",
              " 'you',\n",
              " 'can',\n",
              " '’',\n",
              " 't',\n",
              " 'do',\n",
              " 'is',\n",
              " 'ignore',\n",
              " 'them',\n",
              " 'because',\n",
              " 'they',\n",
              " 'change',\n",
              " 'things',\n",
              " '.',\n",
              " 'They',\n",
              " 'push',\n",
              " 'the',\n",
              " 'human',\n",
              " 'race',\n",
              " 'forward',\n",
              " ',',\n",
              " 'and',\n",
              " 'while',\n",
              " 'some',\n",
              " 'may',\n",
              " 'see',\n",
              " 'them',\n",
              " 'as',\n",
              " 'the',\n",
              " 'crazy',\n",
              " 'ones',\n",
              " ',',\n",
              " 'we',\n",
              " 'see',\n",
              " 'genius',\n",
              " ',',\n",
              " 'because',\n",
              " 'the',\n",
              " 'ones',\n",
              " 'who',\n",
              " 'are',\n",
              " 'crazy',\n",
              " 'enough',\n",
              " 'to',\n",
              " 'think',\n",
              " 'that',\n",
              " 'they',\n",
              " 'can',\n",
              " 'change',\n",
              " 'the',\n",
              " 'world',\n",
              " ',',\n",
              " 'are',\n",
              " 'the',\n",
              " 'ones',\n",
              " 'who',\n",
              " 'do',\n",
              " '.']"
            ]
          },
          "metadata": {},
          "execution_count": 6
        }
      ]
    },
    {
      "cell_type": "code",
      "source": [
        "#Sentence tokenizer: This helps to tokenize the text into sentences using the sent_tokenize in nltk library.\n",
        "sent_tokenize(text)"
      ],
      "metadata": {
        "colab": {
          "base_uri": "https://localhost:8080/"
        },
        "id": "LSoYq79t_DZO",
        "outputId": "35a813ff-9b35-4338-8eef-4149547d7aca"
      },
      "execution_count": 7,
      "outputs": [
        {
          "output_type": "execute_result",
          "data": {
            "text/plain": [
              "['Here’s to the crazy ones, the misfits, the rebels, the troublemakers, \\nthe round pegs in the square holes.',\n",
              " 'The ones who see things differently — they’re not fond of \\nrules.',\n",
              " 'You can quote them, disagree with them, glorify\\nor vilify them, but the only thing you can’t do is ignore them because they\\nchange things.',\n",
              " 'They push the human race forward, and while some may see them\\nas the crazy ones, we see genius, because the ones who are crazy enough to think\\nthat they can change the world, are the ones who do.']"
            ]
          },
          "metadata": {},
          "execution_count": 7
        }
      ]
    },
    {
      "cell_type": "markdown",
      "source": [
        "## 3. Tokenize text in different languages with **spaCy**"
      ],
      "metadata": {
        "id": "W7s9jT6uAV-6"
      }
    },
    {
      "cell_type": "markdown",
      "source": [
        "When you need to tokenize text written in a language other than English, you can use spaCy. This is a library for advanced natural language processing, written in Python and Cython, that supports tokenization for more than 65 languages.\n",
        "\n",
        "Let’s tokenize the same Steve Jobs text but now translated in Spanish."
      ],
      "metadata": {
        "id": "H2SSYxLjAUpJ"
      }
    },
    {
      "cell_type": "markdown",
      "source": [
        "It considers punctuation as a token"
      ],
      "metadata": {
        "id": "xYwm_9q_AsVk"
      }
    },
    {
      "cell_type": "code",
      "source": [
        "from spacy.lang.es import Spanish\n",
        "\n",
        "spac = Spanish()"
      ],
      "metadata": {
        "id": "OV7WKKue_uBE"
      },
      "execution_count": 8,
      "outputs": []
    },
    {
      "cell_type": "code",
      "source": [
        "text_spanish = \"\"\"Por los locos. Los marginados. Los rebeldes. Los problematicos.\n",
        "Los inadaptados. Los que ven las cosas de una manera distinta. A los que no les gustan\n",
        "las reglas. Y a los que no respetan el “status quo”. Puedes citarlos, discrepar de ellos,\n",
        "ensalzarlos o vilipendiarlos. Pero lo que no puedes hacer es ignorarlos… Porque ellos\n",
        "cambian las cosas, empujan hacia adelante la raza humana y, aunque algunos puedan\n",
        "considerarlos locos, nosotros vemos en ellos a genios. Porque las personas que están\n",
        "lo bastante locas como para creer que pueden cambiar el mundo, son las que lo logran.\"\"\""
      ],
      "metadata": {
        "id": "ecFntfABA-XG"
      },
      "execution_count": 9,
      "outputs": []
    },
    {
      "cell_type": "code",
      "source": [
        "doc = spac(text_spanish)"
      ],
      "metadata": {
        "id": "7IBkEVyIBr_0"
      },
      "execution_count": 10,
      "outputs": []
    },
    {
      "cell_type": "code",
      "source": [
        "doc"
      ],
      "metadata": {
        "colab": {
          "base_uri": "https://localhost:8080/"
        },
        "id": "tj6SxvOVBye6",
        "outputId": "ad7a5085-8fa3-49c9-f543-d4ea64c498cc"
      },
      "execution_count": 11,
      "outputs": [
        {
          "output_type": "execute_result",
          "data": {
            "text/plain": [
              "Por los locos. Los marginados. Los rebeldes. Los problematicos. \n",
              "Los inadaptados. Los que ven las cosas de una manera distinta. A los que no les gustan\n",
              "las reglas. Y a los que no respetan el “status quo”. Puedes citarlos, discrepar de ellos,\n",
              "ensalzarlos o vilipendiarlos. Pero lo que no puedes hacer es ignorarlos… Porque ellos\n",
              "cambian las cosas, empujan hacia adelante la raza humana y, aunque algunos puedan\n",
              "considerarlos locos, nosotros vemos en ellos a genios. Porque las personas que están\n",
              "lo bastante locas como para creer que pueden cambiar el mundo, son las que lo logran."
            ]
          },
          "metadata": {},
          "execution_count": 11
        }
      ]
    },
    {
      "cell_type": "code",
      "source": [
        "tokens = [token.text for token in doc]\n",
        "print(tokens)"
      ],
      "metadata": {
        "colab": {
          "base_uri": "https://localhost:8080/"
        },
        "id": "stlaGYGgBAg1",
        "outputId": "bb0ced05-d6f0-45cf-d236-91d32cccbc4b"
      },
      "execution_count": 12,
      "outputs": [
        {
          "output_type": "stream",
          "name": "stdout",
          "text": [
            "['Por', 'los', 'locos', '.', 'Los', 'marginados', '.', 'Los', 'rebeldes', '.', 'Los', 'problematicos', '.', '\\n', 'Los', 'inadaptados', '.', 'Los', 'que', 'ven', 'las', 'cosas', 'de', 'una', 'manera', 'distinta', '.', 'A', 'los', 'que', 'no', 'les', 'gustan', '\\n', 'las', 'reglas', '.', 'Y', 'a', 'los', 'que', 'no', 'respetan', 'el', '“', 'status', 'quo', '”', '.', 'Puedes', 'citarlos', ',', 'discrepar', 'de', 'ellos', ',', '\\n', 'ensalzarlos', 'o', 'vilipendiarlos', '.', 'Pero', 'lo', 'que', 'no', 'puedes', 'hacer', 'es', 'ignorarlos', '…', 'Porque', 'ellos', '\\n', 'cambian', 'las', 'cosas', ',', 'empujan', 'hacia', 'adelante', 'la', 'raza', 'humana', 'y', ',', 'aunque', 'algunos', 'puedan', '\\n', 'considerarlos', 'locos', ',', 'nosotros', 'vemos', 'en', 'ellos', 'a', 'genios', '.', 'Porque', 'las', 'personas', 'que', 'están', '\\n', 'lo', 'bastante', 'locas', 'como', 'para', 'creer', 'que', 'pueden', 'cambiar', 'el', 'mundo', ',', 'son', 'las', 'que', 'lo', 'logran', '.']\n"
          ]
        }
      ]
    },
    {
      "cell_type": "markdown",
      "source": [
        "In this case, we imported Spanish from spacy.lang.es but if you’re working with text in English, just import English from spacy.lang.en [Check the list of languages available here.](https://spacy.io/usage/models)"
      ],
      "metadata": {
        "id": "O1L2PubsCKPU"
      }
    },
    {
      "cell_type": "markdown",
      "source": [
        "## 4. Tokenization with **Gensim**\n",
        "\n",
        "Gensim(Generate Similar) is a library for unsupervised topic modeling and natural language processing and also contains a tokenizer. Once you install Gensim, tokenizing text will be as simple as writing the following code.\n",
        "\n",
        "Gensim is quite strict with punctuation. It splits whenever a punctuation is encountered."
      ],
      "metadata": {
        "id": "SAe6RLfICh3k"
      }
    },
    {
      "cell_type": "code",
      "source": [
        "from gensim.utils import tokenize"
      ],
      "metadata": {
        "id": "lga0NPvsBdGz"
      },
      "execution_count": 13,
      "outputs": []
    },
    {
      "cell_type": "code",
      "source": [
        "#word tokenization\n",
        "print(list(tokenize(text)))"
      ],
      "metadata": {
        "colab": {
          "base_uri": "https://localhost:8080/"
        },
        "id": "ym_1HwvZCvdE",
        "outputId": "dea8edef-f448-4a6f-c4c1-2f7a717ea9fe"
      },
      "execution_count": 14,
      "outputs": [
        {
          "output_type": "stream",
          "name": "stdout",
          "text": [
            "['Here', 's', 'to', 'the', 'crazy', 'ones', 'the', 'misfits', 'the', 'rebels', 'the', 'troublemakers', 'the', 'round', 'pegs', 'in', 'the', 'square', 'holes', 'The', 'ones', 'who', 'see', 'things', 'differently', 'they', 're', 'not', 'fond', 'of', 'rules', 'You', 'can', 'quote', 'them', 'disagree', 'with', 'them', 'glorify', 'or', 'vilify', 'them', 'but', 'the', 'only', 'thing', 'you', 'can', 't', 'do', 'is', 'ignore', 'them', 'because', 'they', 'change', 'things', 'They', 'push', 'the', 'human', 'race', 'forward', 'and', 'while', 'some', 'may', 'see', 'them', 'as', 'the', 'crazy', 'ones', 'we', 'see', 'genius', 'because', 'the', 'ones', 'who', 'are', 'crazy', 'enough', 'to', 'think', 'that', 'they', 'can', 'change', 'the', 'world', 'are', 'the', 'ones', 'who', 'do']\n"
          ]
        }
      ]
    },
    {
      "cell_type": "code",
      "source": [],
      "metadata": {
        "id": "zfk1tdczC2v-"
      },
      "execution_count": 14,
      "outputs": []
    },
    {
      "cell_type": "code",
      "source": [],
      "metadata": {
        "id": "OQfpSYZXFRMC"
      },
      "execution_count": 14,
      "outputs": []
    },
    {
      "cell_type": "code",
      "source": [],
      "metadata": {
        "id": "X9Uh2X6lFRUV"
      },
      "execution_count": 14,
      "outputs": []
    },
    {
      "cell_type": "markdown",
      "source": [
        "#**Stop Words**"
      ],
      "metadata": {
        "id": "cZEhQtCrFUk3"
      }
    },
    {
      "cell_type": "markdown",
      "source": [
        "Stop words are a set of commonly used words in a language. Examples of stop words in English are “a”, “the”, “is”, “are” and etc. Stop words are commonly used in Text Mining and NLP to eliminate words that are so commonly used that they carry very little useful information.\n",
        "\n",
        "\n",
        "<br>\n",
        "\n",
        "*Why do we remove stop words?*\n",
        "\n",
        "It helps to remove the low-level information from our text in order to give more focus to the important information.\n",
        "Those words do not really contribute significant information to our model.\n",
        "\n",
        "<br>\n",
        "\n",
        "*Do we always remove stop words*\n",
        "\n",
        "Not always. It highly depends on the use case. For example tasks like text classification do not generally need stop words as the other words present in the dataset are more important and give the general idea of the text. So, we generally remove stop words in such tasks.\n",
        "\n",
        "However, in task like sentiment analysis, you might want to maintain these stop words.\n",
        "\n",
        "For example, if we are training a model that can perform the sentiment analysis task, we might not remove the stop words.\n",
        "\n",
        "**Movie review:** *“The movie was not good at all.”*\n",
        "\n",
        "**Text after removal of stop words:** *“movie good”*\n",
        "\n",
        "We can clearly see that the review for the movie was negative. However, after the removal of stop words, the review became positive, which is not the reality. Thus, the removal of stop words can be problematic here."
      ],
      "metadata": {
        "id": "R3f9dF6iFRqD"
      }
    },
    {
      "cell_type": "code",
      "source": [],
      "metadata": {
        "id": "jpqQt4FQGNBU"
      },
      "execution_count": 14,
      "outputs": []
    },
    {
      "cell_type": "markdown",
      "source": [
        "##Removing Stop words with Natural Language Toolkit (NLTK)"
      ],
      "metadata": {
        "id": "FghrWnlmGORM"
      }
    },
    {
      "cell_type": "code",
      "source": [
        "#Downloading and importing stopwords\n",
        "import nltk\n",
        "nltk.download('stopwords')\n",
        "from nltk.corpus import stopwords"
      ],
      "metadata": {
        "colab": {
          "base_uri": "https://localhost:8080/"
        },
        "id": "xwF8l5kGFSc-",
        "outputId": "b1027b70-b2bf-4d3c-ab7d-96b70de4b3c0"
      },
      "execution_count": 15,
      "outputs": [
        {
          "output_type": "stream",
          "name": "stderr",
          "text": [
            "[nltk_data] Downloading package stopwords to /root/nltk_data...\n",
            "[nltk_data]   Package stopwords is already up-to-date!\n"
          ]
        }
      ]
    },
    {
      "cell_type": "code",
      "source": [
        "#Stopwards in English\n",
        "sw_nltk = stopwords.words('english')\n",
        "print(sw_nltk)"
      ],
      "metadata": {
        "colab": {
          "base_uri": "https://localhost:8080/"
        },
        "id": "AYPMZM23Gp02",
        "outputId": "0a7af9c2-e915-4434-960f-5f81c4175e7d"
      },
      "execution_count": 16,
      "outputs": [
        {
          "output_type": "stream",
          "name": "stdout",
          "text": [
            "['i', 'me', 'my', 'myself', 'we', 'our', 'ours', 'ourselves', 'you', \"you're\", \"you've\", \"you'll\", \"you'd\", 'your', 'yours', 'yourself', 'yourselves', 'he', 'him', 'his', 'himself', 'she', \"she's\", 'her', 'hers', 'herself', 'it', \"it's\", 'its', 'itself', 'they', 'them', 'their', 'theirs', 'themselves', 'what', 'which', 'who', 'whom', 'this', 'that', \"that'll\", 'these', 'those', 'am', 'is', 'are', 'was', 'were', 'be', 'been', 'being', 'have', 'has', 'had', 'having', 'do', 'does', 'did', 'doing', 'a', 'an', 'the', 'and', 'but', 'if', 'or', 'because', 'as', 'until', 'while', 'of', 'at', 'by', 'for', 'with', 'about', 'against', 'between', 'into', 'through', 'during', 'before', 'after', 'above', 'below', 'to', 'from', 'up', 'down', 'in', 'out', 'on', 'off', 'over', 'under', 'again', 'further', 'then', 'once', 'here', 'there', 'when', 'where', 'why', 'how', 'all', 'any', 'both', 'each', 'few', 'more', 'most', 'other', 'some', 'such', 'no', 'nor', 'not', 'only', 'own', 'same', 'so', 'than', 'too', 'very', 's', 't', 'can', 'will', 'just', 'don', \"don't\", 'should', \"should've\", 'now', 'd', 'll', 'm', 'o', 're', 've', 'y', 'ain', 'aren', \"aren't\", 'couldn', \"couldn't\", 'didn', \"didn't\", 'doesn', \"doesn't\", 'hadn', \"hadn't\", 'hasn', \"hasn't\", 'haven', \"haven't\", 'isn', \"isn't\", 'ma', 'mightn', \"mightn't\", 'mustn', \"mustn't\", 'needn', \"needn't\", 'shan', \"shan't\", 'shouldn', \"shouldn't\", 'wasn', \"wasn't\", 'weren', \"weren't\", 'won', \"won't\", 'wouldn', \"wouldn't\"]\n"
          ]
        }
      ]
    },
    {
      "cell_type": "code",
      "source": [
        "#Number of the stopwords\n",
        "print(len(sw_nltk))"
      ],
      "metadata": {
        "colab": {
          "base_uri": "https://localhost:8080/"
        },
        "id": "FPDAwHfhG_FW",
        "outputId": "33e3c66b-c34b-43c1-8055-938135f9477d"
      },
      "execution_count": 17,
      "outputs": [
        {
          "output_type": "stream",
          "name": "stdout",
          "text": [
            "179\n"
          ]
        }
      ]
    },
    {
      "cell_type": "code",
      "source": [
        "text2 = \"Here's to the crazy ones, the misfits, the rebels, the troublemakers, the round pegs in the square holes.\""
      ],
      "metadata": {
        "id": "aZ64Pe_DKEsm"
      },
      "execution_count": 18,
      "outputs": []
    },
    {
      "cell_type": "markdown",
      "source": [
        "Applying the stopwords on text2"
      ],
      "metadata": {
        "id": "oa6yURFkKYHm"
      }
    },
    {
      "cell_type": "code",
      "source": [
        "words = [word for word in text2.split() if word.lower() not in sw_nltk]\n",
        "\n",
        "new_text = \" \".join(words)"
      ],
      "metadata": {
        "id": "5jGCIEvxKTcf"
      },
      "execution_count": 19,
      "outputs": []
    },
    {
      "cell_type": "code",
      "source": [
        "print(new_text)\n",
        "print(\"Old length: \", len(text2))\n",
        "print(\"New length: \", len(new_text))"
      ],
      "metadata": {
        "colab": {
          "base_uri": "https://localhost:8080/"
        },
        "id": "rFYuno0UKvDe",
        "outputId": "c8680d60-a877-48c6-c3ce-ebe2d2e56391"
      },
      "execution_count": 20,
      "outputs": [
        {
          "output_type": "stream",
          "name": "stdout",
          "text": [
            "Here's crazy ones, misfits, rebels, troublemakers, round pegs square holes.\n",
            "Old length:  105\n",
            "New length:  75\n"
          ]
        }
      ]
    },
    {
      "cell_type": "code",
      "source": [],
      "metadata": {
        "id": "70LQ_s0QKyYW"
      },
      "execution_count": 20,
      "outputs": []
    },
    {
      "cell_type": "markdown",
      "source": [
        "##Removing Stop words with spaCy"
      ],
      "metadata": {
        "id": "is2CuVsHLn4j"
      }
    },
    {
      "cell_type": "code",
      "source": [
        "import spacy\n",
        "\n",
        "#loading the english language small model of spacy\n",
        "en = spacy.load('en_core_web_sm')\n",
        "sw_spacy = en.Defaults.stop_words\n",
        "print(sw_spacy)"
      ],
      "metadata": {
        "colab": {
          "base_uri": "https://localhost:8080/"
        },
        "id": "SfTjpLquLowM",
        "outputId": "5017d72d-32e9-4548-86ce-384929628e51"
      },
      "execution_count": 21,
      "outputs": [
        {
          "output_type": "stream",
          "name": "stdout",
          "text": [
            "{'whereby', 'seem', 'either', 'make', 'somewhere', 'name', 'herein', 'them', 'mine', 'been', 'onto', 'beforehand', 'four', 'nor', 'at', 'became', 'were', 'so', 'under', 'almost', 'eleven', 'noone', 'done', 'five', 'seeming', '‘re', 'ours', 'moreover', 'my', 'quite', 'whatever', '’d', 'next', 'cannot', 'i', 'becoming', 'thereupon', 'ourselves', 'until', 'in', 'had', 'during', 'between', 'am', 'whither', 'does', 'own', 'into', 'are', 'through', 'therefore', 'beyond', 'indeed', 'all', 'anything', 'among', 'made', 'their', 'perhaps', 'your', 'already', 'six', 'down', 'only', 'then', 'hereupon', 'this', 'we', \"'s\", 'rather', 'here', 'there', 'how', 'formerly', 'its', 'just', 'whole', 'nobody', 'was', 'together', '’ll', 'no', 'nothing', 'eight', 'amongst', 'using', \"'ll\", 'but', 'off', 'by', 'itself', 'one', 'above', 'whereafter', 'fifty', 'used', 'really', 'few', 'whenever', 'part', 'therein', 'latter', 'sixty', 'or', 'and', 'throughout', 'has', 'same', 'whom', 'while', 'below', 'more', 'much', 'since', 'will', 'ca', 'neither', 'can', 'except', 'once', 'whereupon', 'top', 'others', 'yet', 'move', 'against', 'often', 'several', 'back', 'hereafter', 'towards', \"'m\", 'still', 'from', 'might', 'although', 'out', 'full', 'her', 'further', 'hence', 'anyhow', 'being', 'thence', 'former', '‘m', 'doing', 'must', 'becomes', 'see', 'side', 'though', 'have', 'other', 'regarding', 'would', 'thereafter', 'least', 'across', 'too', 'him', 'hundred', 're', 'elsewhere', 'enough', 'amount', 'somehow', 'without', 'ten', 'not', 'else', 'fifteen', 'toward', 'forty', 'those', 'anyway', 'another', 'via', '’m', 'on', 'our', 'behind', 'give', 'thereby', \"n't\", 'to', 'well', 'wherein', 'most', 'whoever', 'both', 'why', 'may', 'whence', 'a', 'very', 'than', 'an', 'go', 'should', 'even', 'before', 'themselves', 'it', 'for', 'within', 'mostly', 'meanwhile', 'with', 'take', 'hereby', 'none', 'be', 'he', 'everything', 'everywhere', 'many', 'she', 'if', 'around', 'sometimes', 'you', 'front', '’re', 'could', '‘d', 'everyone', 'show', 'as', '‘ve', 'seemed', 'per', 'whereas', 'myself', \"'d\", 'various', 'each', 'that', 'unless', 'last', 'anyone', 'any', 'seems', 'put', 'call', 'which', 'yourselves', 'also', 'please', 'every', 'thus', 'three', 'some', \"'ve\", 'nine', 'say', 'someone', 'third', 'about', 'over', 'of', 'us', 'never', 'yours', 'something', 'upon', 'because', 'less', 'always', 'do', 'afterwards', 'these', 'get', 'sometime', 'himself', 'twelve', '‘ll', 'hers', 'whether', 'due', 'herself', 'otherwise', 'besides', 'n‘t', 'nowhere', 'me', 'yourself', 'whose', \"'re\", 'become', 'his', 'now', 'what', '’s', '’ve', 'did', 'latterly', 'is', 'ever', 'bottom', 'thru', '‘s', 'namely', 'wherever', 'who', 'anywhere', 'along', 'beside', 'nevertheless', 'twenty', 'keep', 'empty', 'however', 'alone', 'first', 'the', 'where', 'they', 'serious', 'two', 'such', 'n’t', 'up', 'after', 'again', 'when'}\n"
          ]
        }
      ]
    },
    {
      "cell_type": "code",
      "source": [
        "print(len(sw_spacy))"
      ],
      "metadata": {
        "colab": {
          "base_uri": "https://localhost:8080/"
        },
        "id": "HfFfL0VNMHjn",
        "outputId": "986450ea-84bd-434d-a10a-80e8a87063d8"
      },
      "execution_count": 22,
      "outputs": [
        {
          "output_type": "stream",
          "name": "stdout",
          "text": [
            "326\n"
          ]
        }
      ]
    },
    {
      "cell_type": "code",
      "source": [
        "words = [word for word in text2.split() if word.lower() not in sw_spacy]\n",
        "\n",
        "new_text = \" \".join(words)"
      ],
      "metadata": {
        "id": "Kmn8yBhPMPG_"
      },
      "execution_count": 23,
      "outputs": []
    },
    {
      "cell_type": "code",
      "source": [
        "print(new_text)\n",
        "print(\"Old length: \", len(text2))\n",
        "print(\"New length: \", len(new_text))"
      ],
      "metadata": {
        "colab": {
          "base_uri": "https://localhost:8080/"
        },
        "id": "wzvZf4u3MYuA",
        "outputId": "657fa643-5f3a-4759-ac03-e56428c17faf"
      },
      "execution_count": 24,
      "outputs": [
        {
          "output_type": "stream",
          "name": "stdout",
          "text": [
            "Here's crazy ones, misfits, rebels, troublemakers, round pegs square holes.\n",
            "Old length:  105\n",
            "New length:  75\n"
          ]
        }
      ]
    },
    {
      "cell_type": "markdown",
      "source": [
        "Both NLTK and spaCy did same work in this case. Might not be same in other scenarios."
      ],
      "metadata": {
        "id": "eLbEioynMhFN"
      }
    },
    {
      "cell_type": "code",
      "source": [],
      "metadata": {
        "id": "4rstisn4MgcM"
      },
      "execution_count": 24,
      "outputs": []
    },
    {
      "cell_type": "markdown",
      "source": [
        "##Removing Stop words with Ginsim"
      ],
      "metadata": {
        "id": "WxcwTFV8Mink"
      }
    },
    {
      "cell_type": "code",
      "source": [
        "import gensim\n",
        "\n",
        "#importing stopwords from gensim\n",
        "from gensim.parsing.preprocessing import remove_stopwords, STOPWORDS"
      ],
      "metadata": {
        "id": "-Vly1-whMbdZ"
      },
      "execution_count": 25,
      "outputs": []
    },
    {
      "cell_type": "code",
      "source": [
        "print(STOPWORDS)"
      ],
      "metadata": {
        "colab": {
          "base_uri": "https://localhost:8080/"
        },
        "id": "nJj9Al_yM133",
        "outputId": "1eb251fd-4d61-4ab4-b0ee-e386f04e2bce"
      },
      "execution_count": 26,
      "outputs": [
        {
          "output_type": "stream",
          "name": "stdout",
          "text": [
            "frozenset({'whereby', 'seem', 'either', 'eg', 'somewhere', 'make', 'cant', 'name', 'couldnt', 'herein', 'them', 'cry', 'mine', 'system', 'been', 'onto', 'beforehand', 'four', 'nor', 'at', 'became', 'were', 'so', 'under', 'almost', 'eleven', 'noone', 'done', 'five', 'seeming', 'ours', 'moreover', 'my', 'quite', 'don', 'whatever', 'next', 'cannot', 'i', 'con', 'becoming', 'thereupon', 'ourselves', 'until', 'in', 'fill', 'had', 'during', 'between', 'am', 'whither', 'does', 'own', 'found', 'are', 'into', 'through', 'km', 'therefore', 'beyond', 'indeed', 'all', 'anything', 'among', 'de', 'made', 'their', 'perhaps', 'your', 'already', 'six', 'down', 'only', 'then', 'hereupon', 'this', 'we', 'ie', 'rather', 'here', 'there', 'how', 'formerly', 'its', 'just', 'whole', 'was', 'nobody', 'together', 'ltd', 'no', 'nothing', 'eight', 'amongst', 'using', 'but', 'off', 'by', 'itself', 'one', 'above', 'whereafter', 'fifty', 'doesn', 'used', 'really', 'few', 'whenever', 'part', 'therein', 'latter', 'sixty', 'or', 'and', 'throughout', 'has', 'same', 'whom', 'while', 'more', 'below', 'much', 'since', 'will', 'inc', 'neither', 'except', 'can', 'once', 'whereupon', 'top', 'computer', 'didn', 'fire', 'others', 'yet', 'move', 'against', 'often', 'sincere', 'bill', 'co', 'several', 'back', 'hereafter', 'towards', 'still', 'might', 'from', 'out', 'although', 'full', 'her', 'detail', 'further', 'hence', 'anyhow', 'being', 'thence', 'thick', 'former', 'doing', 'must', 'becomes', 'side', 'see', 'though', 'have', 'other', 'regarding', 'would', 'thereafter', 'least', 'across', 'too', 'him', 'describe', 'hundred', 're', 'elsewhere', 'enough', 'amount', 'somehow', 'without', 'mill', 'ten', 'not', 'else', 'fifteen', 'toward', 'forty', 'those', 'anyway', 'another', 'via', 'our', 'on', 'behind', 'give', 'thereby', 'to', 'well', 'wherein', 'whoever', 'most', 'both', 'why', 'may', 'whence', 'a', 'very', 'than', 'go', 'an', 'should', 'even', 'before', 'themselves', 'it', 'for', 'within', 'mostly', 'meanwhile', 'with', 'take', 'hereby', 'none', 'be', 'he', 'everything', 'everywhere', 'many', 'she', 'if', 'around', 'sometimes', 'you', 'interest', 'front', 'amoungst', 'could', 'everyone', 'show', 'as', 'seemed', 'per', 'whereas', 'etc', 'myself', 'various', 'each', 'that', 'unless', 'last', 'anyone', 'any', 'seems', 'kg', 'put', 'call', 'yourselves', 'which', 'also', 'please', 'every', 'thus', 'three', 'some', 'nine', 'say', 'someone', 'third', 'thin', 'about', 'over', 'of', 'us', 'never', 'yours', 'something', 'upon', 'hasnt', 'because', 'less', 'always', 'do', 'afterwards', 'these', 'get', 'sometime', 'himself', 'twelve', 'hers', 'whether', 'due', 'herself', 'otherwise', 'besides', 'nowhere', 'me', 'yourself', 'whose', 'become', 'his', 'now', 'what', 'did', 'latterly', 'un', 'find', 'is', 'bottom', 'ever', 'thru', 'namely', 'wherever', 'who', 'anywhere', 'along', 'beside', 'twenty', 'nevertheless', 'keep', 'empty', 'however', 'alone', 'first', 'the', 'where', 'they', 'two', 'serious', 'such', 'up', 'after', 'again', 'when'})\n"
          ]
        }
      ]
    },
    {
      "cell_type": "code",
      "source": [
        "print(len(STOPWORDS))"
      ],
      "metadata": {
        "colab": {
          "base_uri": "https://localhost:8080/"
        },
        "id": "1Ft4IKVgM4m2",
        "outputId": "12aa1f25-c0b3-4bee-d5c6-1be5461b0033"
      },
      "execution_count": 27,
      "outputs": [
        {
          "output_type": "stream",
          "name": "stdout",
          "text": [
            "337\n"
          ]
        }
      ]
    },
    {
      "cell_type": "code",
      "source": [
        "new_text = remove_stopwords(text2)\n",
        "print(new_text)\n",
        "print(\"Old length: \", len(text2))\n",
        "print(\"New length: \", len(new_text))"
      ],
      "metadata": {
        "colab": {
          "base_uri": "https://localhost:8080/"
        },
        "id": "VEgTxaLKNEAW",
        "outputId": "8d445e48-ffd8-490a-baef-2d0997222938"
      },
      "execution_count": 28,
      "outputs": [
        {
          "output_type": "stream",
          "name": "stdout",
          "text": [
            "Here's crazy ones, misfits, rebels, troublemakers, round pegs square holes.\n",
            "Old length:  105\n",
            "New length:  75\n"
          ]
        }
      ]
    },
    {
      "cell_type": "code",
      "source": [],
      "metadata": {
        "id": "Nq0Apu_4NKUG"
      },
      "execution_count": 28,
      "outputs": []
    },
    {
      "cell_type": "markdown",
      "source": [
        "##Removing Stop words with Scikit-Learn"
      ],
      "metadata": {
        "id": "ORV5ZKmeNqYW"
      }
    },
    {
      "cell_type": "code",
      "source": [
        "from sklearn.feature_extraction.text import ENGLISH_STOP_WORDS\n",
        "\n",
        "print(ENGLISH_STOP_WORDS)"
      ],
      "metadata": {
        "colab": {
          "base_uri": "https://localhost:8080/"
        },
        "id": "v0XrIHK0NrH1",
        "outputId": "2ee6bc90-7b23-4821-afe2-125ef0247bbe"
      },
      "execution_count": 29,
      "outputs": [
        {
          "output_type": "stream",
          "name": "stdout",
          "text": [
            "frozenset({'whereby', 'seem', 'either', 'eg', 'somewhere', 'cant', 'name', 'couldnt', 'herein', 'cry', 'them', 'mine', 'system', 'been', 'onto', 'beforehand', 'four', 'nor', 'at', 'became', 'were', 'so', 'under', 'almost', 'eleven', 'noone', 'done', 'five', 'seeming', 'ours', 'moreover', 'my', 'whatever', 'next', 'cannot', 'i', 'con', 'becoming', 'thereupon', 'ourselves', 'until', 'in', 'fill', 'had', 'during', 'between', 'am', 'whither', 'own', 'found', 'are', 'into', 'through', 'therefore', 'beyond', 'indeed', 'all', 'anything', 'among', 'de', 'made', 'their', 'perhaps', 'your', 'already', 'six', 'down', 'only', 'then', 'hereupon', 'this', 'we', 'ie', 'rather', 'here', 'there', 'how', 'formerly', 'its', 'whole', 'nobody', 'was', 'together', 'ltd', 'no', 'nothing', 'eight', 'amongst', 'but', 'off', 'by', 'itself', 'one', 'above', 'whereafter', 'fifty', 'few', 'whenever', 'part', 'therein', 'latter', 'sixty', 'or', 'and', 'throughout', 'has', 'same', 'whom', 'while', 'below', 'more', 'much', 'since', 'will', 'inc', 'neither', 'can', 'except', 'once', 'whereupon', 'top', 'fire', 'others', 'yet', 'move', 'against', 'often', 'bill', 'sincere', 'co', 'several', 'back', 'hereafter', 'towards', 'still', 'from', 'might', 'although', 'out', 'full', 'her', 'detail', 'further', 'hence', 'anyhow', 'being', 'thence', 'thick', 'former', 'must', 'becomes', 'see', 'side', 'though', 'have', 'other', 'would', 'thereafter', 'least', 'across', 'too', 'him', 'describe', 'hundred', 're', 'elsewhere', 'enough', 'amount', 'somehow', 'without', 'mill', 'ten', 'not', 'else', 'fifteen', 'toward', 'forty', 'those', 'anyway', 'another', 'via', 'on', 'our', 'behind', 'give', 'thereby', 'to', 'well', 'wherein', 'most', 'whoever', 'both', 'why', 'may', 'whence', 'a', 'very', 'than', 'an', 'go', 'should', 'even', 'before', 'themselves', 'it', 'for', 'within', 'mostly', 'meanwhile', 'with', 'take', 'hereby', 'none', 'be', 'he', 'everything', 'everywhere', 'many', 'she', 'if', 'around', 'sometimes', 'you', 'interest', 'amoungst', 'front', 'could', 'everyone', 'show', 'as', 'seemed', 'per', 'whereas', 'etc', 'myself', 'each', 'that', 'last', 'anyone', 'any', 'seems', 'put', 'call', 'which', 'yourselves', 'also', 'please', 'every', 'thus', 'three', 'some', 'nine', 'third', 'someone', 'thin', 'about', 'over', 'of', 'us', 'never', 'yours', 'something', 'upon', 'hasnt', 'because', 'less', 'always', 'do', 'afterwards', 'these', 'get', 'sometime', 'himself', 'twelve', 'hers', 'whether', 'due', 'herself', 'otherwise', 'besides', 'nowhere', 'me', 'yourself', 'whose', 'become', 'his', 'now', 'what', 'latterly', 'un', 'find', 'is', 'bottom', 'ever', 'thru', 'namely', 'wherever', 'who', 'anywhere', 'along', 'beside', 'nevertheless', 'twenty', 'keep', 'empty', 'however', 'alone', 'first', 'the', 'where', 'they', 'serious', 'two', 'such', 'up', 'after', 'again', 'when'})\n"
          ]
        }
      ]
    },
    {
      "cell_type": "code",
      "source": [
        "print(len(ENGLISH_STOP_WORDS))"
      ],
      "metadata": {
        "colab": {
          "base_uri": "https://localhost:8080/"
        },
        "id": "a-tXy5K1N2Rl",
        "outputId": "2fb177c5-b59c-460f-b7bf-000c9fed0e2f"
      },
      "execution_count": 30,
      "outputs": [
        {
          "output_type": "stream",
          "name": "stdout",
          "text": [
            "318\n"
          ]
        }
      ]
    },
    {
      "cell_type": "code",
      "source": [
        "words = [word for word in text2.split() if word.lower() not in ENGLISH_STOP_WORDS]\n",
        "\n",
        "new_text = \" \".join(words)"
      ],
      "metadata": {
        "id": "ETQ22vmUN7wb"
      },
      "execution_count": 31,
      "outputs": []
    },
    {
      "cell_type": "code",
      "source": [
        "print(new_text)\n",
        "print(\"Old length: \", len(text2))\n",
        "print(\"New length: \", len(new_text))"
      ],
      "metadata": {
        "colab": {
          "base_uri": "https://localhost:8080/"
        },
        "id": "-g8o015bOSeN",
        "outputId": "0807abdb-0d42-4ab4-a637-2608f800ac7f"
      },
      "execution_count": 32,
      "outputs": [
        {
          "output_type": "stream",
          "name": "stdout",
          "text": [
            "Here's crazy ones, misfits, rebels, troublemakers, round pegs square holes.\n",
            "Old length:  105\n",
            "New length:  75\n"
          ]
        }
      ]
    },
    {
      "cell_type": "code",
      "source": [],
      "metadata": {
        "id": "8Fmr9RFzOVE3"
      },
      "execution_count": 32,
      "outputs": []
    },
    {
      "cell_type": "markdown",
      "source": [
        "## Adding custom Stop Words"
      ],
      "metadata": {
        "id": "bQzQleHcOa6b"
      }
    },
    {
      "cell_type": "markdown",
      "source": [
        "You can also add custom stop words to the list of stop words available in these libraries to serve our purpose.\n",
        "\n",
        "Here is the code to add some custom stop words to NLTK’s stop words list:"
      ],
      "metadata": {
        "id": "4gboLXRYOgYP"
      }
    },
    {
      "cell_type": "code",
      "source": [
        "sw_nltk.extend(['first', 'second', 'third','me'])\n",
        "print(len(sw_nltk))"
      ],
      "metadata": {
        "colab": {
          "base_uri": "https://localhost:8080/"
        },
        "id": "HEVCOjsiOdg_",
        "outputId": "6325fee7-f182-4752-ac05-9f5ae8e3420e"
      },
      "execution_count": 33,
      "outputs": [
        {
          "output_type": "stream",
          "name": "stdout",
          "text": [
            "183\n"
          ]
        }
      ]
    },
    {
      "cell_type": "markdown",
      "source": [
        "##Removing Stop Words"
      ],
      "metadata": {
        "id": "tQZXcOEbPD39"
      }
    },
    {
      "cell_type": "markdown",
      "source": [
        "You can also remove stop words from the list available in these libraries.\n",
        "\n",
        "Here is the code using the NLTK library:"
      ],
      "metadata": {
        "id": "9sv6ku_7PNP7"
      }
    },
    {
      "cell_type": "code",
      "source": [
        "\n",
        "sw_nltk.remove('not')\n",
        "print(len(sw_nltk))"
      ],
      "metadata": {
        "colab": {
          "base_uri": "https://localhost:8080/"
        },
        "id": "2FeDm971PDnc",
        "outputId": "45f7d0bf-3abe-43c0-c880-1e336aa648f5"
      },
      "execution_count": 34,
      "outputs": [
        {
          "output_type": "stream",
          "name": "stdout",
          "text": [
            "182\n"
          ]
        }
      ]
    },
    {
      "cell_type": "markdown",
      "source": [
        "##Create Custom Stop Words"
      ],
      "metadata": {
        "id": "N-v4M7_CO99V"
      }
    },
    {
      "cell_type": "code",
      "source": [
        "\n",
        "text2 = \"Here's to the crazy ones, the misfits, the rebels, the troublemakers, the round pegs in the square holes.\""
      ],
      "metadata": {
        "id": "hzAWp3TlO7Kw"
      },
      "execution_count": 35,
      "outputs": []
    },
    {
      "cell_type": "code",
      "source": [
        "#create your custom stop words list\n",
        "my_stop_words = ['to','the','in']\n",
        "words = [word for word in text2.split() if word.lower() not in my_stop_words]\n",
        "new_text = \" \".join(words)\n",
        "print(new_text)\n",
        "print(\"Old length: \", len(text2))\n",
        "print(\"New length: \", len(new_text))"
      ],
      "metadata": {
        "colab": {
          "base_uri": "https://localhost:8080/"
        },
        "id": "StP-lY6APBLX",
        "outputId": "75603c63-377f-4e64-9247-74a742dc6ff6"
      },
      "execution_count": 36,
      "outputs": [
        {
          "output_type": "stream",
          "name": "stdout",
          "text": [
            "Here's crazy ones, misfits, rebels, troublemakers, round pegs square holes.\n",
            "Old length:  105\n",
            "New length:  75\n"
          ]
        }
      ]
    },
    {
      "cell_type": "code",
      "source": [],
      "metadata": {
        "id": "SYZ78mGJPVMl"
      },
      "execution_count": 36,
      "outputs": []
    }
  ]
}